{
 "cells": [
  {
   "cell_type": "markdown",
   "metadata": {},
   "source": [
    "## Pneumonic plague model for Barcelona 1490"
   ]
  },
  {
   "cell_type": "markdown",
   "metadata": {},
   "source": [
    "#### Import packages"
   ]
  },
  {
   "cell_type": "code",
   "execution_count": null,
   "metadata": {
    "collapsed": true
   },
   "outputs": [],
   "source": [
    "import numpy as np\n",
    "import pymc as pm\n",
    "import matplotlib.pyplot as plt\n",
    "from pymc.Matplot import plot\n",
    "import scipy.stats"
   ]
  },
  {
   "cell_type": "markdown",
   "metadata": {},
   "source": [
    "#### Import observed data"
   ]
  },
  {
   "cell_type": "code",
   "execution_count": null,
   "metadata": {
    "collapsed": true
   },
   "outputs": [],
   "source": [
    "barcelona_1490 = np.array([1,0,1,1,0,1,5,3,1,0,1,1,2,3,5,0,6,3,6,3,8,1,5,2,1,1,2,2,2,5,7,12,4,3,5,3,8,5,8,8,6,12,11,22,15,14,24,14,15,20,20,13,11,25,28,30,24,28,42,24,32,24,27,31,34,33,29,31,38,40,42,38,53,44,66,52,53,56,63,49,60,57,65,55,55,47,67,62,65,57,47,46,62,54,52,48,49,64,46,67,52,50,56,46,41,38,36,39,31,32,41,25,32,35,36,36,33,26,42,31,19,27,23,22,15,24,32,19,10,16,12,15,14,13,12,13,12,6,12,15,5,9,3,5,12,6,7,3,3,3,3,2,3,3,0,3,2,3,3,1,1,4,2,3,0,2,3,2,0,1,1,4,1,2,2,1,1,2,0,1,1,2])\n",
    "mortality_data = barcelona_1490\n",
    "t = len(mortality_data)"
   ]
  },
  {
   "cell_type": "markdown",
   "metadata": {},
   "source": [
    "#### Set up the model"
   ]
  },
  {
   "cell_type": "code",
   "execution_count": null,
   "metadata": {
    "collapsed": true
   },
   "outputs": [],
   "source": [
    "__all__ = ['mortality_data','beta', 'gamma', \n",
    "           'S_0', 'I_0', 'D_0', 'D', 'D_h', 'mortality', \n",
    "           'pop_size', 'sus_frac', 'mortality_sim']\n",
    "\n",
    "#Parameters\n",
    "beta = pm.Uniform('beta', 1e-9, 1.0)\n",
    "gamma = .4\n",
    "\n",
    "sus_frac = pm.Uniform('sus_frac', 1e-9, 1.)\n",
    "pop_size = 25000.\n",
    "\n",
    "#Intial conditions\n",
    "S_0 = pop_size*sus_frac\n",
    "I_0 = pm.Uniform('I_0', 1., 10.)\n",
    "D_0 = 1.\n",
    "\n",
    "#SID model for pneumonic plague\n",
    "@pm.deterministic\n",
    "def SID(S_0=S_0, I_0=I_0, D_0=D_0, beta=beta, gamma=gamma):\n",
    "    S = np.zeros(t)\n",
    "    I = np.zeros(t)\n",
    "    D = np.zeros(t)\n",
    "\n",
    "    S[0] = S_0\n",
    "    I[0] = I_0\n",
    "    D[0] = D_0\n",
    "    \n",
    "    for i in range(1, t):\n",
    "        new_infected = min(S[i-1], beta*S[i-1]*I[i-1]/(S[i-1]+I[i-1]))\n",
    "        new_dead = min(I[i-1], gamma*I[i-1])\n",
    "        \n",
    "        S[i] = S[i-1] - new_infected\n",
    "        I[i] = I[i-1] + new_infected - new_dead\n",
    "        D[i] = new_dead\n",
    "\n",
    "    return S, I, D\n",
    "\n",
    "D_h = pm.Lambda('D_h', lambda SID=SID: SID[2])\n",
    "\n",
    "#Likelihood\n",
    "mortality = pm.Poisson('mortality', mu=D_h, value=mortality_data, observed=True)\n",
    "mortality_sim = pm.Poisson('mortality_sim', mu=D_h)"
   ]
  },
  {
   "cell_type": "markdown",
   "metadata": {},
   "source": [
    "#### Fit the model"
   ]
  },
  {
   "cell_type": "code",
   "execution_count": null,
   "metadata": {
    "collapsed": false
   },
   "outputs": [],
   "source": [
    "if __name__ == '__main__':\n",
    "    vars = [mortality_data, beta, gamma, \n",
    "            S_0,I_0, D_0, D_h, mortality, \n",
    "            pop_size, sus_frac, mortality_sim]\n",
    "    \n",
    "    mc = pm.MCMC(vars, db='pickle', dbname='pneu')\n",
    "    mc.use_step_method(pm.AdaptiveMetropolis, [beta, sus_frac, I_0])\n",
    "    mc.sample(iter=180000, burn=80000, thin=10, verbose=0)\n",
    "    mc.sample(iter=180000, burn=80000, thin=10, verbose=0)\n",
    "    mc.sample(iter=180000, burn=80000, thin=10, verbose=0)\n",
    "    mc.db.close()"
   ]
  },
  {
   "cell_type": "markdown",
   "metadata": {},
   "source": [
    "#### Output summary"
   ]
  },
  {
   "cell_type": "code",
   "execution_count": null,
   "metadata": {
    "collapsed": false
   },
   "outputs": [],
   "source": [
    "pm.gelman_rubin(mc)"
   ]
  },
  {
   "cell_type": "code",
   "execution_count": null,
   "metadata": {
    "collapsed": false
   },
   "outputs": [],
   "source": [
    "mc.summary()"
   ]
  },
  {
   "cell_type": "code",
   "execution_count": null,
   "metadata": {
    "collapsed": false
   },
   "outputs": [],
   "source": [
    "M = pm.MAP(mc)\n",
    "M.fit()\n",
    "M.BIC"
   ]
  },
  {
   "cell_type": "markdown",
   "metadata": {},
   "source": [
    "#### Plot the posteriors"
   ]
  },
  {
   "cell_type": "code",
   "execution_count": null,
   "metadata": {
    "collapsed": false
   },
   "outputs": [],
   "source": [
    "%matplotlib inline\n",
    "plot(mc)"
   ]
  },
  {
   "cell_type": "markdown",
   "metadata": {},
   "source": [
    "#### Plot the fit"
   ]
  },
  {
   "cell_type": "code",
   "execution_count": null,
   "metadata": {
    "collapsed": false
   },
   "outputs": [],
   "source": [
    "%matplotlib inline\n",
    "plt.figure(figsize=(10,10))\n",
    "plt.title('Barcelona 1490')\n",
    "plt.xlabel('Day')\n",
    "plt.ylabel('Deaths')\n",
    "plt.plot(mortality_data, 'o', mec='black', color='black', label='Observed deaths')\n",
    "plt.plot(mortality_sim.stats()['mean'], color='red', linewidth=1, label='PPP (mean)')\n",
    "y_min = mortality_sim.stats()['quantiles'][2.5]\n",
    "y_max = mortality_sim.stats()['quantiles'][97.5]\n",
    "plt.fill_between(range(0,len(mortality_data)), y_min, y_max, color='r', alpha=0.3, label='PPP (95% CI)')\n",
    "plt.legend()"
   ]
  }
 ],
 "metadata": {
  "anaconda-cloud": {},
  "kernelspec": {
   "display_name": "Python 2",
   "language": "python",
   "name": "python2"
  },
  "language_info": {
   "codemirror_mode": {
    "name": "ipython",
    "version": 2
   },
   "file_extension": ".py",
   "mimetype": "text/x-python",
   "name": "python",
   "nbconvert_exporter": "python",
   "pygments_lexer": "ipython2",
   "version": "2.7.13"
  }
 },
 "nbformat": 4,
 "nbformat_minor": 1
}
