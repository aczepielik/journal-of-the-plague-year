{
 "cells": [
  {
   "cell_type": "markdown",
   "metadata": {},
   "source": [
    "## Rat flea model for Barcelona 1490"
   ]
  },
  {
   "cell_type": "markdown",
   "metadata": {},
   "source": [
    "#### Import packages"
   ]
  },
  {
   "cell_type": "code",
   "execution_count": null,
   "metadata": {
    "collapsed": true
   },
   "outputs": [],
   "source": [
    "import numpy as np\n",
    "import pymc as pm\n",
    "import matplotlib.pyplot as plt\n",
    "from pymc.Matplot import plot\n",
    "import scipy.stats"
   ]
  },
  {
   "cell_type": "markdown",
   "metadata": {},
   "source": [
    "#### Import observed data"
   ]
  },
  {
   "cell_type": "code",
   "execution_count": null,
   "metadata": {
    "collapsed": true
   },
   "outputs": [],
   "source": [
    "barcelona_1490 = np.array([1,0,1,1,0,1,5,3,1,0,1,1,2,3,5,0,6,3,6,3,8,1,5,2,1,1,2,2,2,5,7,12,4,3,5,3,8,5,8,8,6,12,11,22,15,14,24,14,15,20,20,13,11,25,28,30,24,28,42,24,32,24,27,31,34,33,29,31,38,40,42,38,53,44,66,52,53,56,63,49,60,57,65,55,55,47,67,62,65,57,47,46,62,54,52,48,49,64,46,67,52,50,56,46,41,38,36,39,31,32,41,25,32,35,36,36,33,26,42,31,19,27,23,22,15,24,32,19,10,16,12,15,14,13,12,13,12,6,12,15,5,9,3,5,12,6,7,3,3,3,3,2,3,3,0,3,2,3,3,1,1,4,2,3,0,2,3,2,0,1,1,4,1,2,2,1,1,2,0,1,1,2])\n",
    "mortality_data = barcelona_1490\n",
    "t = len(mortality_data)"
   ]
  },
  {
   "cell_type": "markdown",
   "metadata": {},
   "source": [
    "#### Set up the model"
   ]
  },
  {
   "cell_type": "code",
   "execution_count": null,
   "metadata": {
    "collapsed": true,
    "scrolled": true
   },
   "outputs": [],
   "source": [
    "__all__ = [\n",
    "    'S_r0', 'I_r0', 'R_r0', 'D_r0',\n",
    "    'S_h0', 'I_h0', 'R_h0','D_h0',\n",
    "    'H_f', 'S_r', 'I_r', 'R_r', 'D_r',\n",
    "    'S_h', 'I_h', 'R_h', 'D_h'\n",
    "    'human_mortality', 'rat_mortality',\n",
    "    'mortality_sim']\n",
    "\n",
    "#Parameters\n",
    "beta_r = pm.Uniform('beta_r', 1e-9, 1.0, value = .08)\n",
    "gamma = 0.2\n",
    "sigma = 0.1\n",
    "beta_h = pm.Uniform('beta_h', 1e-9, .2, value = .2)\n",
    "\n",
    "sus_frac = pm.Uniform('sus_frac', 1e-9, 1.0, value = .14)\n",
    "pop_size = 25000.\n",
    "\n",
    "H_f0 = 6.0\n",
    "I_f0 = 1.*H_f0\n",
    "\n",
    "#Initial conditions for rat population\n",
    "S_r0 = pop_size*sus_frac\n",
    "I_r0 = pm.Uniform('I_r0', 1., 15., value=15.)\n",
    "R_r0 = 0.\n",
    "D_r0 = 0.\n",
    "\n",
    "#Initial conditions for human population\n",
    "S_h0 = 25000.\n",
    "I_h0 = 1.*1.5\n",
    "R_h0 = 0.\n",
    "D_h0 = 1.\n",
    "\n",
    "searching = 3./S_r0\n",
    "\n",
    "#SIRD model for rat-flea palgue\n",
    "@pm.deterministic \n",
    "def SIRD(H_f0=H_f0, I_f0=I_f0,\n",
    "         S_r0=S_r0, I_r0=I_r0, R_r0=R_r0, D_r0=D_r0, \n",
    "         S_h0=S_h0, I_h0=I_h0, R_h0=R_h0, D_h0=D_h0,\n",
    "         beta_r=beta_r, gamma=gamma, sigma=sigma, \n",
    "         searching=searching, beta_h=beta_h):\n",
    "    \n",
    "    H_f = np.zeros(t)\n",
    "    I_f = np.zeros(t)\n",
    "\n",
    "    S_r = np.zeros(t)\n",
    "    I_r = np.zeros(t)\n",
    "    R_r = np.zeros(t)\n",
    "    D_r = np.zeros(t)\n",
    "\n",
    "    S_h = np.zeros(t)\n",
    "    I_h = np.zeros(t)\n",
    "    R_h = np.zeros(t)\n",
    "    D_h = np.zeros(t)\n",
    "   \n",
    "    H_f[0] = H_f0\n",
    "    I_f[0] = I_f0\n",
    "    \n",
    "    S_r[0] = S_r0\n",
    "    I_r[0] = I_r0\n",
    "    R_r[0] = R_r0\n",
    "    D_r[0] = D_r0\n",
    "\n",
    "    S_h[0] = S_h0\n",
    "    I_h[0] = I_h0\n",
    "    R_h[0] = R_h0\n",
    "    D_h[0] = D_h0\n",
    "\n",
    "    for i in range(1,t):\n",
    "        if i == 1: #Referenced before assignment at i = 1\n",
    "            infected_rat_deaths=D_h0\n",
    "            N_r = S_r[i-1]+I_r[i-1]+R_r[i-1]\n",
    "           \n",
    "        #Fleas\n",
    "        K_f = H_f0 #avg number of fleas per rat at carrying capacity\n",
    "        if H_f[i-1]/K_f < 1.:\n",
    "            flea_growth = .0084*(H_f[i-1]*(1.-(H_f[i-1]/K_f)))\n",
    "        elif H_f[i-1]/K_f > 1.:\n",
    "            flea_growth = -.0084*(H_f[i-1]*(1.-(H_f[i-1]/K_f)))\n",
    "        else:\n",
    "            flea_growth = 0.\n",
    "           \n",
    "        new_infectious = infected_rat_deaths*(H_f[i-1])\n",
    "        starvation_deaths = 0.2*I_f[i-1]\n",
    "        force_to_humans = min(I_f[i-1], I_f[i-1]*np.exp(-searching*N_r)) #number of fleas that find a human\n",
    "        force_to_rats = I_f[i-1]-force_to_humans #number of fleas that find a rat\n",
    "       \n",
    "        H_f[i] = H_f[i-1] + flea_growth\n",
    "        I_f[i] = I_f[i-1] + new_infectious - starvation_deaths\n",
    "       \n",
    "        #Rats\n",
    "        N_r = S_r[i-1]+I_r[i-1]+R_r[i-1]\n",
    "\n",
    "        new_infected_rats = min(S_r[i-1], beta_r*S_r[i-1]*force_to_rats/N_r)\n",
    "        new_removed_rats = gamma*I_r[i-1]\n",
    "        new_recovered_rats = sigma*new_removed_rats\n",
    "        new_dead_rats = new_removed_rats - new_recovered_rats\n",
    "        infected_rat_deaths = new_dead_rats\n",
    "       \n",
    "        S_r[i] = S_r[i-1] - new_infected_rats \n",
    "        I_r[i] = I_r[i-1] + new_infected_rats - new_removed_rats \n",
    "        R_r[i] = R_r[i-1] + new_recovered_rats \n",
    "        D_r[i] = new_dead_rats\n",
    "       \n",
    "        #Humans\n",
    "        N_h = S_h[i-1]+I_h[i-1]+R_h[i-1]\n",
    "        \n",
    "        new_infected_humans = min(S_h[i-1], beta_h*S_h[i-1]*force_to_humans/N_h)\n",
    "        new_removed_humans = .1*I_h[i-1]\n",
    "        new_recovered_humans = .4*new_removed_humans\n",
    "        new_dead_humans = new_removed_humans - new_recovered_humans\n",
    "        \n",
    "        S_h[i] = S_h[i-1] - new_infected_humans\n",
    "        I_h[i] = I_h[i-1] + new_infected_humans - new_removed_humans\n",
    "        R_h[i] = R_h[i-1] + new_recovered_humans\n",
    "        D_h[i] = new_dead_humans\n",
    "       \n",
    "    return H_f, I_f, S_r, I_r, R_r, D_r, I_h, D_h\n",
    "\n",
    "D_h = pm.Lambda('D_h', lambda SIRD=SIRD: SIRD[7])\n",
    "\n",
    "#Likelihood\n",
    "mortality = pm.Poisson('mortality', mu=D_h, value=mortality_data, observed=True)\n",
    "mortality_sim = pm.Poisson('mortality_sim', mu=D_h)"
   ]
  },
  {
   "cell_type": "markdown",
   "metadata": {},
   "source": [
    "## Fitting with MCMC in pymc and graphing"
   ]
  },
  {
   "cell_type": "code",
   "execution_count": null,
   "metadata": {
    "collapsed": false,
    "scrolled": true
   },
   "outputs": [],
   "source": [
    "if __name__ == '__main__':\n",
    "    vars = [beta_r, gamma, sigma, searching,\n",
    "    H_f0, I_r0, R_r0, D_r0, S_h0,\n",
    "    I_h0, D_h0, D_h, beta_h,\n",
    "    pop_size, sus_frac, mortality,\n",
    "    mortality_data, mortality_sim]\n",
    "    \n",
    "    mc = pm.MCMC(vars, db='pickle', dbname='rat')\n",
    "    mc.use_step_method(pm.AdaptiveMetropolis, [beta_r,beta_h, sus_frac, I_r0])\n",
    "    mc.sample(iter=180000, burn=80000, thin=10, verbose=0)\n",
    "    mc.sample(iter=180000, burn=80000, thin=10, verbose=0)\n",
    "    mc.sample(iter=180000, burn=80000, thin=10, verbose=0)\n",
    "    mc.db.close()"
   ]
  },
  {
   "cell_type": "markdown",
   "metadata": {},
   "source": [
    "#### Output summary"
   ]
  },
  {
   "cell_type": "code",
   "execution_count": null,
   "metadata": {
    "collapsed": false
   },
   "outputs": [],
   "source": [
    "pm.gelman_rubin(mc)"
   ]
  },
  {
   "cell_type": "code",
   "execution_count": null,
   "metadata": {
    "collapsed": false
   },
   "outputs": [],
   "source": [
    "mc.summary()"
   ]
  },
  {
   "cell_type": "code",
   "execution_count": null,
   "metadata": {
    "collapsed": false
   },
   "outputs": [],
   "source": [
    "M = pm.MAP(mc)\n",
    "M.fit()\n",
    "M.BIC"
   ]
  },
  {
   "cell_type": "markdown",
   "metadata": {},
   "source": [
    "#### Plot the posteriors"
   ]
  },
  {
   "cell_type": "code",
   "execution_count": null,
   "metadata": {
    "collapsed": false
   },
   "outputs": [],
   "source": [
    "%matplotlib inline\n",
    "plot(mc)"
   ]
  },
  {
   "cell_type": "markdown",
   "metadata": {},
   "source": [
    "#### Plot the fit"
   ]
  },
  {
   "cell_type": "code",
   "execution_count": null,
   "metadata": {
    "collapsed": false,
    "scrolled": true
   },
   "outputs": [],
   "source": [
    "%matplotlib inline\n",
    "plt.figure(figsize=(10,10))\n",
    "plt.title('Barcelona 1490')\n",
    "plt.xlabel('Day')\n",
    "plt.ylabel('Deaths')\n",
    "plt.plot(mortality_data, 'o', mec='black', color='black', label='Observed deaths')\n",
    "plt.plot(mortality_sim.stats()['mean'], color='red', linewidth=1, label='BPL (mean)')\n",
    "y_min = mortality_sim.stats()['quantiles'][2.5]\n",
    "y_max = mortality_sim.stats()['quantiles'][97.5]\n",
    "plt.fill_between(range(0,len(mortality_data)), y_min, y_max, color='r', alpha=0.3, label='BPL (95% CI)')\n",
    "plt.legend()"
   ]
  },
  {
   "cell_type": "code",
   "execution_count": null,
   "metadata": {
    "collapsed": true
   },
   "outputs": [],
   "source": []
  }
 ],
 "metadata": {
  "anaconda-cloud": {},
  "kernelspec": {
   "display_name": "Python 2",
   "language": "python",
   "name": "python2"
  },
  "language_info": {
   "codemirror_mode": {
    "name": "ipython",
    "version": 2
   },
   "file_extension": ".py",
   "mimetype": "text/x-python",
   "name": "python",
   "nbconvert_exporter": "python",
   "pygments_lexer": "ipython2",
   "version": "2.7.13"
  }
 },
 "nbformat": 4,
 "nbformat_minor": 1
}
