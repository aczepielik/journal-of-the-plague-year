{
 "cells": [
  {
   "cell_type": "markdown",
   "metadata": {},
   "source": [
    "## Pneumonic plague model for Barcelona 1490"
   ]
  },
  {
   "cell_type": "markdown",
   "metadata": {},
   "source": [
    "#### Import packages"
   ]
  },
  {
   "cell_type": "code",
   "execution_count": 1,
   "metadata": {
    "collapsed": true
   },
   "outputs": [],
   "source": [
    "import numpy as np\n",
    "import pymc as pm\n",
    "import matplotlib.pyplot as plt\n",
    "#from pymc.Matplot import plot\n",
    "import scipy.stats"
   ]
  },
  {
   "cell_type": "markdown",
   "metadata": {},
   "source": [
    "#### Import observed data"
   ]
  },
  {
   "cell_type": "code",
   "execution_count": 2,
   "metadata": {
    "collapsed": true
   },
   "outputs": [],
   "source": [
    "london = np.array([2, 2, 2, 2, 2, 2, 2, 1, 2, 3, 2, 3, 2, 4, 3, 4, 5, 5, 7, 9, 10, 11, 14, 14, 17, 17, 19, 20, 20, 21, 23, 23, 25, 27, 29, 30, 32, 35, 39, 41, 45, 49, 53, 57, 63, 67, 72, 78, 84, 89, 94, 100, 105, 110, 114, 118, 122, 128, 139, 150, 165, 184, 204, 226, 246, 261, 272, 279, 282, 281, 276, 275, 276, 282, 290, 303, 319, 337, 359, 381, 405, 431, 457, 486, 514, 538, 556, 569, 575, 577, 572, 565, 563, 572, 588, 616, 651, 696, 747, 797, 842, 882, 917, 947, 974, 994, 1008, 1015, 1014, 1007, 992, 970, 943, 924, 915, 916, 927, 948, 980, 1016, 1043, 1055, 1054, 1037, 1006, 961, 904, 854, 811, 775, 749, 730, 721, 716, 714, 711, 706, 701, 696, 689, 680, 668, 651, 628, 601, 568, 531, 488, 449, 411, 376, 344, 313, 287, 261, 238, 218, 199, 182, 169, 156, 146, 139, 138, 140, 145, 155, 169, 184, 199, 206, 211, 211, 206, 197, 183, 171, 159, 148, 138, 129, 122, 114, 107, 101, 93, 86, 79, 72, 64, 57, 52, 46, 41, 38, 36, 32, 31, 30, 29, 29, 29, 31, 31, 33, 33, 35, 36, 37, 38, 38, 38, 40, 40, 41, 41, 43])\n",
    "mortality_data = london\n",
    "t = len(mortality_data)"
   ]
  },
  {
   "cell_type": "markdown",
   "metadata": {},
   "source": [
    "#### Set up the model"
   ]
  },
  {
   "cell_type": "code",
   "execution_count": 3,
   "metadata": {
    "collapsed": true
   },
   "outputs": [],
   "source": [
    "__all__ = ['mortality_data','beta', 'gamma', \n",
    "           'S_0', 'I_0', 'D_0', 'D', 'D_h', 'mortality', \n",
    "           'pop_size', 'sus_frac', 'mortality_sim']\n",
    "\n",
    "#Parameters\n",
    "beta = pm.Uniform('beta', 1e-9, 1.0)\n",
    "gamma = .4\n",
    "\n",
    "sus_frac = pm.Uniform('sus_frac', 1e-9, 1.)\n",
    "pop_size = 25000.\n",
    "\n",
    "#Intial conditions\n",
    "S_0 = pop_size*sus_frac\n",
    "I_0 = pm.Uniform('I_0', 1., 10.)\n",
    "D_0 = 1.\n",
    "\n",
    "#SID model for pneumonic plague\n",
    "@pm.deterministic\n",
    "def SID(S_0=S_0, I_0=I_0, D_0=D_0, beta=beta, gamma=gamma):\n",
    "    S = np.zeros(t)\n",
    "    I = np.zeros(t)\n",
    "    D = np.zeros(t)\n",
    "\n",
    "    S[0] = S_0\n",
    "    I[0] = I_0\n",
    "    D[0] = D_0\n",
    "    \n",
    "    for i in range(1, t):\n",
    "        new_infected = min(S[i-1], beta*S[i-1]*I[i-1]/(S[i-1]+I[i-1]))\n",
    "        new_dead = min(I[i-1], gamma*I[i-1])\n",
    "        \n",
    "        S[i] = S[i-1] - new_infected\n",
    "        I[i] = I[i-1] + new_infected - new_dead\n",
    "        D[i] = new_dead\n",
    "\n",
    "    return S, I, D\n",
    "\n",
    "D_h = pm.Lambda('D_h', lambda SID=SID: SID[2])\n",
    "\n",
    "#Likelihood\n",
    "mortality = pm.Poisson('mortality', mu=D_h, value=mortality_data, observed=True)\n",
    "mortality_sim = pm.Poisson('mortality_sim', mu=D_h)"
   ]
  },
  {
   "cell_type": "markdown",
   "metadata": {},
   "source": [
    "#### Fit the model"
   ]
  },
  {
   "cell_type": "code",
   "execution_count": 4,
   "metadata": {
    "collapsed": false
   },
   "outputs": [
    {
     "name": "stdout",
     "output_type": "stream",
     "text": [
      " [                  0%                  ] 1151 of 180000 complete in 2.5 sec"
     ]
    },
    {
     "name": "stderr",
     "output_type": "stream",
     "text": [
      "/home/adam/anaconda3/envs/jotpy/lib/python3.6/site-packages/pymc/StepMethods.py:1282: UserWarning: \n",
      "Covariance was not positive definite and proposal_sd cannot be computed by \n",
      "Cholesky decomposition. The next jumps will be based on the last \n",
      "valid covariance matrix. This situation may have arisen because no \n",
      "jumps were accepted during the last `interval`. One solution is to \n",
      "increase the interval, or specify an initial covariance matrix with \n",
      "a smaller variance. For this simulation, each time a similar error \n",
      "occurs, proposal_sd will be reduced by a factor .9 to reduce the \n",
      "jumps and increase the likelihood of accepted jumps.\n",
      "  warnings.warn(adjustmentwarning)\n"
     ]
    },
    {
     "name": "stdout",
     "output_type": "stream",
     "text": [
      " [-----------------100%-----------------] 180000 of 180000 complete in 125.9 sec"
     ]
    }
   ],
   "source": [
    "if __name__ == '__main__':\n",
    "    vars = [mortality_data, beta, gamma, \n",
    "            S_0,I_0, D_0, D_h, mortality, \n",
    "            pop_size, sus_frac, mortality_sim]\n",
    "    \n",
    "    mc = pm.MCMC(vars, db='pickle', dbname='pneu')\n",
    "    mc.use_step_method(pm.AdaptiveMetropolis, [beta, sus_frac, I_0])\n",
    "    mc.sample(iter=180000, burn=80000, thin=10, verbose=0)\n",
    "    mc.sample(iter=180000, burn=80000, thin=10, verbose=0)\n",
    "    mc.sample(iter=180000, burn=80000, thin=10, verbose=0)\n",
    "    mc.db.close()"
   ]
  },
  {
   "cell_type": "markdown",
   "metadata": {},
   "source": [
    "#### Output summary"
   ]
  },
  {
   "cell_type": "code",
   "execution_count": null,
   "metadata": {
    "collapsed": false
   },
   "outputs": [],
   "source": [
    "pm.gelman_rubin(mc)"
   ]
  },
  {
   "cell_type": "code",
   "execution_count": null,
   "metadata": {
    "collapsed": false
   },
   "outputs": [],
   "source": [
    "mc.summary()"
   ]
  },
  {
   "cell_type": "code",
   "execution_count": 5,
   "metadata": {
    "collapsed": false
   },
   "outputs": [
    {
     "name": "stdout",
     "output_type": "stream",
     "text": [
      "Warning: Stochastic mortality_sim's value is neither numerical nor array with floating-point dtype. Recommend fitting method fmin (default).\n"
     ]
    },
    {
     "name": "stderr",
     "output_type": "stream",
     "text": [
      "/home/adam/anaconda3/envs/jotpy/lib/python3.6/site-packages/ipykernel_launcher.py:29: RuntimeWarning: invalid value encountered in double_scalars\n"
     ]
    },
    {
     "data": {
      "text/plain": [
       "79384.75195708266"
      ]
     },
     "execution_count": 5,
     "metadata": {},
     "output_type": "execute_result"
    }
   ],
   "source": [
    "M = pm.MAP(mc)\n",
    "M.fit()\n",
    "M.BIC"
   ]
  },
  {
   "cell_type": "markdown",
   "metadata": {},
   "source": [
    "#### Plot the posteriors"
   ]
  },
  {
   "cell_type": "code",
   "execution_count": 6,
   "metadata": {
    "collapsed": false
   },
   "outputs": [
    {
     "ename": "NameError",
     "evalue": "name 'plot' is not defined",
     "output_type": "error",
     "traceback": [
      "\u001b[0;31m---------------------------------------------------------------------------\u001b[0m",
      "\u001b[0;31mNameError\u001b[0m                                 Traceback (most recent call last)",
      "\u001b[0;32m<ipython-input-6-9340e78a80fd>\u001b[0m in \u001b[0;36m<module>\u001b[0;34m\u001b[0m\n\u001b[1;32m      1\u001b[0m \u001b[0mget_ipython\u001b[0m\u001b[0;34m(\u001b[0m\u001b[0;34m)\u001b[0m\u001b[0;34m.\u001b[0m\u001b[0mrun_line_magic\u001b[0m\u001b[0;34m(\u001b[0m\u001b[0;34m'matplotlib'\u001b[0m\u001b[0;34m,\u001b[0m \u001b[0;34m'inline'\u001b[0m\u001b[0;34m)\u001b[0m\u001b[0;34m\u001b[0m\u001b[0;34m\u001b[0m\u001b[0m\n\u001b[0;32m----> 2\u001b[0;31m \u001b[0mplot\u001b[0m\u001b[0;34m(\u001b[0m\u001b[0mmc\u001b[0m\u001b[0;34m)\u001b[0m\u001b[0;34m\u001b[0m\u001b[0;34m\u001b[0m\u001b[0m\n\u001b[0m",
      "\u001b[0;31mNameError\u001b[0m: name 'plot' is not defined"
     ]
    }
   ],
   "source": [
    "%matplotlib inline\n",
    "plot(mc)"
   ]
  },
  {
   "cell_type": "markdown",
   "metadata": {},
   "source": [
    "#### Plot the fit"
   ]
  },
  {
   "cell_type": "code",
   "execution_count": 7,
   "metadata": {
    "collapsed": false
   },
   "outputs": [
    {
     "data": {
      "text/plain": [
       "<matplotlib.legend.Legend at 0x7fe6668efac8>"
      ]
     },
     "execution_count": 7,
     "metadata": {},
     "output_type": "execute_result"
    },
    {
     "data": {
      "image/png": "[encoded data removed]",
      "text/plain": [
       "<Figure size 720x720 with 1 Axes>"
      ]
     },
     "metadata": {
      "needs_background": "light"
     },
     "output_type": "display_data"
    }
   ],
   "source": [
    "%matplotlib inline\n",
    "plt.figure(figsize=(10,10))\n",
    "plt.title('Barcelona 1490')\n",
    "plt.xlabel('Day')\n",
    "plt.ylabel('Deaths')\n",
    "plt.plot(mortality_data, 'o', mec='black', color='black', label='Observed deaths')\n",
    "plt.plot(mortality_sim.stats()['mean'], color='red', linewidth=1, label='PPP (mean)')\n",
    "y_min = mortality_sim.stats()['quantiles'][2.5]\n",
    "y_max = mortality_sim.stats()['quantiles'][97.5]\n",
    "plt.fill_between(range(0,len(mortality_data)), y_min, y_max, color='r', alpha=0.3, label='PPP (95% CI)')\n",
    "plt.legend()"
   ]
  },
  {
   "cell_type": "code",
   "execution_count": null,
   "metadata": {},
   "outputs": [],
   "source": []
  }
 ],
 "metadata": {
  "anaconda-cloud": {},
  "interpreter": {
   "hash": "7e9fd7154bd4627e9ceb3ca411bcd581fc0bb116b1b5b6e1a8355da1e2ffc32c"
  },
  "kernelspec": {
   "display_name": "Python 3.6.13 64-bit ('jotpy': conda)",
   "name": "python3"
  },
  "language_info": {
   "codemirror_mode": {
    "name": "ipython",
    "version": 3
   },
   "file_extension": ".py",
   "mimetype": "text/x-python",
   "name": "python",
   "nbconvert_exporter": "python",
   "pygments_lexer": "ipython3",
   "version": "3.6.13"
  }
 },
 "nbformat": 4,
 "nbformat_minor": 1
}
