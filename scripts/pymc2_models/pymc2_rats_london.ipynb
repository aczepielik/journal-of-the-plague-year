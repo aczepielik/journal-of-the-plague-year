{
 "cells": [
  {
   "cell_type": "markdown",
   "metadata": {},
   "source": [
    "## Rat flea model for Barcelona 1490"
   ]
  },
  {
   "cell_type": "markdown",
   "metadata": {},
   "source": [
    "#### Import packages"
   ]
  },
  {
   "cell_type": "code",
   "execution_count": 1,
   "metadata": {
    "collapsed": true
   },
   "outputs": [],
   "source": [
    "import numpy as np\n",
    "import pymc as pm\n",
    "import matplotlib.pyplot as plt\n",
    "#from pymc.Matplot import plot\n",
    "import scipy.stats"
   ]
  },
  {
   "cell_type": "markdown",
   "metadata": {},
   "source": [
    "#### Import observed data"
   ]
  },
  {
   "cell_type": "code",
   "execution_count": 2,
   "metadata": {
    "collapsed": true
   },
   "outputs": [],
   "source": [
    "london = np.array([2, 2, 2, 2, 2, 2, 2, 1, 2, 3, 2, 3, 2, 4, 3, 4, 5, 5, 7, 9, 10, 11, 14, 14, 17, 17, 19, 20, 20, 21, 23, 23, 25, 27, 29, 30, 32, 35, 39, 41, 45, 49, 53, 57, 63, 67, 72, 78, 84, 89, 94, 100, 105, 110, 114, 118, 122, 128, 139, 150, 165, 184, 204, 226, 246, 261, 272, 279, 282, 281, 276, 275, 276, 282, 290, 303, 319, 337, 359, 381, 405, 431, 457, 486, 514, 538, 556, 569, 575, 577, 572, 565, 563, 572, 588, 616, 651, 696, 747, 797, 842, 882, 917, 947, 974, 994, 1008, 1015, 1014, 1007, 992, 970, 943, 924, 915, 916, 927, 948, 980, 1016, 1043, 1055, 1054, 1037, 1006, 961, 904, 854, 811, 775, 749, 730, 721, 716, 714, 711, 706, 701, 696, 689, 680, 668, 651, 628, 601, 568, 531, 488, 449, 411, 376, 344, 313, 287, 261, 238, 218, 199, 182, 169, 156, 146, 139, 138, 140, 145, 155, 169, 184, 199, 206, 211, 211, 206, 197, 183, 171, 159, 148, 138, 129, 122, 114, 107, 101, 93, 86, 79, 72, 64, 57, 52, 46, 41, 38, 36, 32, 31, 30, 29, 29, 29, 31, 31, 33, 33, 35, 36, 37, 38, 38, 38, 40, 40, 41, 41, 43])\n",
    "mortality_data = london\n",
    "t = len(mortality_data)"
   ]
  },
  {
   "cell_type": "markdown",
   "metadata": {},
   "source": [
    "#### Set up the model"
   ]
  },
  {
   "cell_type": "code",
   "execution_count": 3,
   "metadata": {
    "collapsed": true,
    "scrolled": true
   },
   "outputs": [],
   "source": [
    "__all__ = [\n",
    "    'S_r0', 'I_r0', 'R_r0', 'D_r0',\n",
    "    'S_h0', 'I_h0', 'R_h0','D_h0',\n",
    "    'H_f', 'S_r', 'I_r', 'R_r', 'D_r',\n",
    "    'S_h', 'I_h', 'R_h', 'D_h'\n",
    "    'human_mortality', 'rat_mortality',\n",
    "    'mortality_sim']\n",
    "\n",
    "#Parameters\n",
    "beta_r = pm.Uniform('beta_r', 1e-9, 1.0, value = .08)\n",
    "gamma = 0.2\n",
    "sigma = 0.1\n",
    "beta_h = pm.Uniform('beta_h', 1e-9, .2, value = .2)\n",
    "\n",
    "sus_frac = pm.Uniform('sus_frac', 1e-9, 1.0, value = .14)\n",
    "pop_size = 360000.\n",
    "\n",
    "H_f0 = 6.0\n",
    "I_f0 = 1.*H_f0\n",
    "\n",
    "#Initial conditions for rat population\n",
    "S_r0 = pop_size*sus_frac\n",
    "I_r0 = pm.Uniform('I_r0', 1., 15., value=15.)\n",
    "R_r0 = 0.\n",
    "D_r0 = 0.\n",
    "\n",
    "#Initial conditions for human population\n",
    "S_h0 = 360000.\n",
    "I_h0 = 1.*1.5\n",
    "R_h0 = 0.\n",
    "D_h0 = 1.\n",
    "\n",
    "searching = 3./S_r0\n",
    "\n",
    "#SIRD model for rat-flea palgue\n",
    "@pm.deterministic \n",
    "def SIRD(H_f0=H_f0, I_f0=I_f0,\n",
    "         S_r0=S_r0, I_r0=I_r0, R_r0=R_r0, D_r0=D_r0, \n",
    "         S_h0=S_h0, I_h0=I_h0, R_h0=R_h0, D_h0=D_h0,\n",
    "         beta_r=beta_r, gamma=gamma, sigma=sigma, \n",
    "         searching=searching, beta_h=beta_h):\n",
    "    \n",
    "    H_f = np.zeros(t)\n",
    "    I_f = np.zeros(t)\n",
    "\n",
    "    S_r = np.zeros(t)\n",
    "    I_r = np.zeros(t)\n",
    "    R_r = np.zeros(t)\n",
    "    D_r = np.zeros(t)\n",
    "\n",
    "    S_h = np.zeros(t)\n",
    "    I_h = np.zeros(t)\n",
    "    R_h = np.zeros(t)\n",
    "    D_h = np.zeros(t)\n",
    "   \n",
    "    H_f[0] = H_f0\n",
    "    I_f[0] = I_f0\n",
    "    \n",
    "    S_r[0] = S_r0\n",
    "    I_r[0] = I_r0\n",
    "    R_r[0] = R_r0\n",
    "    D_r[0] = D_r0\n",
    "\n",
    "    S_h[0] = S_h0\n",
    "    I_h[0] = I_h0\n",
    "    R_h[0] = R_h0\n",
    "    D_h[0] = D_h0\n",
    "\n",
    "    for i in range(1,t):\n",
    "        if i == 1: #Referenced before assignment at i = 1\n",
    "            infected_rat_deaths=D_h0\n",
    "            N_r = S_r[i-1]+I_r[i-1]+R_r[i-1]\n",
    "           \n",
    "        #Fleas\n",
    "        K_f = H_f0 #avg number of fleas per rat at carrying capacity\n",
    "        if H_f[i-1]/K_f < 1.:\n",
    "            flea_growth = .0084*(H_f[i-1]*(1.-(H_f[i-1]/K_f)))\n",
    "        elif H_f[i-1]/K_f > 1.:\n",
    "            flea_growth = -.0084*(H_f[i-1]*(1.-(H_f[i-1]/K_f)))\n",
    "        else:\n",
    "            flea_growth = 0.\n",
    "           \n",
    "        new_infectious = infected_rat_deaths*(H_f[i-1])\n",
    "        starvation_deaths = 0.2*I_f[i-1]\n",
    "        force_to_humans = min(I_f[i-1], I_f[i-1]*np.exp(-searching*N_r)) #number of fleas that find a human\n",
    "        force_to_rats = I_f[i-1]-force_to_humans #number of fleas that find a rat\n",
    "       \n",
    "        H_f[i] = H_f[i-1] + flea_growth\n",
    "        I_f[i] = I_f[i-1] + new_infectious - starvation_deaths\n",
    "       \n",
    "        #Rats\n",
    "        N_r = S_r[i-1]+I_r[i-1]+R_r[i-1]\n",
    "\n",
    "        new_infected_rats = min(S_r[i-1], beta_r*S_r[i-1]*force_to_rats/N_r)\n",
    "        new_removed_rats = gamma*I_r[i-1]\n",
    "        new_recovered_rats = sigma*new_removed_rats\n",
    "        new_dead_rats = new_removed_rats - new_recovered_rats\n",
    "        infected_rat_deaths = new_dead_rats\n",
    "       \n",
    "        S_r[i] = S_r[i-1] - new_infected_rats \n",
    "        I_r[i] = I_r[i-1] + new_infected_rats - new_removed_rats \n",
    "        R_r[i] = R_r[i-1] + new_recovered_rats \n",
    "        D_r[i] = new_dead_rats\n",
    "       \n",
    "        #Humans\n",
    "        N_h = S_h[i-1]+I_h[i-1]+R_h[i-1]\n",
    "        \n",
    "        new_infected_humans = min(S_h[i-1], beta_h*S_h[i-1]*force_to_humans/N_h)\n",
    "        new_removed_humans = .1*I_h[i-1]\n",
    "        new_recovered_humans = .4*new_removed_humans\n",
    "        new_dead_humans = new_removed_humans - new_recovered_humans\n",
    "        \n",
    "        S_h[i] = S_h[i-1] - new_infected_humans\n",
    "        I_h[i] = I_h[i-1] + new_infected_humans - new_removed_humans\n",
    "        R_h[i] = R_h[i-1] + new_recovered_humans\n",
    "        D_h[i] = new_dead_humans\n",
    "       \n",
    "    return H_f, I_f, S_r, I_r, R_r, D_r, I_h, D_h\n",
    "\n",
    "D_h = pm.Lambda('D_h', lambda SIRD=SIRD: SIRD[7])\n",
    "\n",
    "#Likelihood\n",
    "mortality = pm.Poisson('mortality', mu=D_h, value=mortality_data, observed=True)\n",
    "mortality_sim = pm.Poisson('mortality_sim', mu=D_h)"
   ]
  },
  {
   "cell_type": "markdown",
   "metadata": {},
   "source": [
    "## Fitting with MCMC in pymc and graphing"
   ]
  },
  {
   "cell_type": "code",
   "execution_count": 4,
   "metadata": {
    "collapsed": false,
    "scrolled": true
   },
   "outputs": [
    {
     "name": "stdout",
     "output_type": "stream",
     "text": [
      " [                  0%                  ] 1220 of 180000 complete in 4.5 sec"
     ]
    },
    {
     "name": "stderr",
     "output_type": "stream",
     "text": [
      "/home/adam/anaconda3/envs/jotpy/lib/python3.6/site-packages/pymc/StepMethods.py:1282: UserWarning: \n",
      "Covariance was not positive definite and proposal_sd cannot be computed by \n",
      "Cholesky decomposition. The next jumps will be based on the last \n",
      "valid covariance matrix. This situation may have arisen because no \n",
      "jumps were accepted during the last `interval`. One solution is to \n",
      "increase the interval, or specify an initial covariance matrix with \n",
      "a smaller variance. For this simulation, each time a similar error \n",
      "occurs, proposal_sd will be reduced by a factor .9 to reduce the \n",
      "jumps and increase the likelihood of accepted jumps.\n",
      "  warnings.warn(adjustmentwarning)\n"
     ]
    },
    {
     "name": "stdout",
     "output_type": "stream",
     "text": [
      " [-----------------100%-----------------] 180000 of 180000 complete in 524.2 sec"
     ]
    }
   ],
   "source": [
    "if __name__ == '__main__':\n",
    "    vars = [beta_r, gamma, sigma, searching,\n",
    "    H_f0, I_r0, R_r0, D_r0, S_h0,\n",
    "    I_h0, D_h0, D_h, beta_h,\n",
    "    pop_size, sus_frac, mortality,\n",
    "    mortality_data, mortality_sim]\n",
    "    \n",
    "    mc = pm.MCMC(vars, db='pickle', dbname='rat')\n",
    "    mc.use_step_method(pm.AdaptiveMetropolis, [beta_r,beta_h, sus_frac, I_r0])\n",
    "    mc.sample(iter=180000, burn=80000, thin=10, verbose=0)\n",
    "    mc.sample(iter=180000, burn=80000, thin=10, verbose=0)\n",
    "    mc.sample(iter=180000, burn=80000, thin=10, verbose=0)\n",
    "    mc.db.close()"
   ]
  },
  {
   "cell_type": "markdown",
   "metadata": {},
   "source": [
    "#### Output summary"
   ]
  },
  {
   "cell_type": "code",
   "execution_count": null,
   "metadata": {
    "collapsed": false
   },
   "outputs": [],
   "source": [
    "pm.gelman_rubin(mc)"
   ]
  },
  {
   "cell_type": "code",
   "execution_count": 5,
   "metadata": {
    "collapsed": false,
    "tags": [
     "outputPrepend"
    ]
   },
   "outputs": [
    {
     "name": "stdout",
     "output_type": "stream",
     "text": [
      "74            0.139                  [47. 79.]\n",
      "\t59.467           7.803            0.129                  [44. 74.]\n",
      "\t54.766           7.486            0.119                  [39. 68.]\n",
      "\t50.376           7.177            0.118                  [37. 64.]\n",
      "\t46.284           6.87             0.108                  [33. 59.]\n",
      "\t42.365           6.561            0.101                  [29. 54.]\n",
      "\t38.901           6.312            0.09                   [27. 51.]\n",
      "\t35.743           6.033            0.09                   [24. 47.]\n",
      "\t32.702           5.736            0.079                  [21. 43.]\n",
      "\t29.93            5.516            0.076                  [19. 40.]\n",
      "\t27.401           5.22             0.071                  [17. 37.]\n",
      "\t25.053           5.017            0.068                  [15. 34.]\n",
      "\t22.926           4.833            0.063                  [14. 32.]\n",
      "\t20.965           4.615            0.054                  [11. 29.]\n",
      "\t19.117           4.36             0.048                  [11. 27.]\n",
      "\t17.468           4.221            0.051                  [ 9. 25.]\n",
      "\t15.917           4.007            0.041                  [ 8. 23.]\n",
      "\t14.528           3.831            0.041                  [ 8. 22.]\n",
      "\t13.236           3.652            0.038                  [ 6. 20.]\n",
      "\t12.049           3.474            0.036                  [ 5. 18.]\n",
      "\t10.995           3.325            0.034                  [ 5. 17.]\n",
      "\t10.043           3.172            0.032                  [ 4. 16.]\n",
      "\t9.161            3.049            0.027                  [ 4. 15.]\n",
      "\t8.274            2.891            0.026                  [ 2. 13.]\n",
      "\t7.569            2.764            0.027                  [ 3. 13.]\n",
      "\t6.861            2.628            0.025                  [ 1. 11.]\n",
      "\t6.236            2.49             0.024                  [ 2. 11.]\n",
      "\t5.678            2.37             0.019                  [ 1. 10.]\n",
      "\t5.156            2.278            0.016                    [1. 9.]\n",
      "\t4.705            2.176            0.019                    [1. 9.]\n",
      "\t4.25             2.06             0.017                    [1. 8.]\n",
      "\t3.856            1.964            0.015                    [0. 7.]\n",
      "\t3.504            1.868            0.014                    [0. 7.]\n",
      "\t3.175            1.788            0.013                    [0. 6.]\n",
      "\t2.903            1.71             0.011                    [0. 6.]\n",
      "\t2.623            1.623            0.013                    [0. 6.]\n",
      "\t2.376            1.531            0.01                     [0. 5.]\n",
      "\t2.156            1.481            0.011                    [0. 5.]\n",
      "\t1.966            1.41             0.01                     [0. 5.]\n",
      "\t1.763            1.332            0.01                     [0. 4.]\n",
      "\t1.605            1.275            0.008                    [0. 4.]\n",
      "\t1.465            1.222            0.008                    [0. 4.]\n",
      "\t1.323            1.149            0.009                    [0. 3.]\n",
      "\t1.193            1.089            0.007                    [0. 3.]\n",
      "\t1.08             1.043            0.007                    [0. 3.]\n",
      "\t0.993            0.996            0.006                    [0. 3.]\n",
      "\t0.889            0.948            0.005                    [0. 3.]\n",
      "\t0.806            0.892            0.005                    [0. 2.]\n",
      "\t0.73             0.851            0.006                    [0. 2.]\n",
      "\t0.655            0.81             0.005                    [0. 2.]\n",
      "\t0.599            0.777            0.005                    [0. 2.]\n",
      "\t0.539            0.734            0.005                    [0. 2.]\n",
      "\t0.481            0.692            0.004                    [0. 2.]\n",
      "\t0.444            0.666            0.004                    [0. 2.]\n",
      "\t0.4              0.634            0.004                    [0. 2.]\n",
      "\t0.368            0.606            0.004                    [0. 2.]\n",
      "\t0.328            0.573            0.003                    [0. 1.]\n",
      "\t0.297            0.543            0.003                    [0. 1.]\n",
      "\t0.266            0.513            0.003                    [0. 1.]\n",
      "\t0.243            0.493            0.003                    [0. 1.]\n",
      "\t0.214            0.463            0.003                    [0. 1.]\n",
      "\t0.194            0.439            0.002                    [0. 1.]\n",
      "\t0.183            0.428            0.003                    [0. 1.]\n",
      "\t0.16             0.4              0.002                    [0. 1.]\n",
      "\t0.146            0.381            0.002                    [0. 1.]\n",
      "\t0.134            0.365            0.002                    [0. 1.]\n",
      "\t0.121            0.349            0.002                    [0. 1.]\n",
      "\t0.109            0.33             0.002                    [0. 1.]\n",
      "\t0.1              0.315            0.002                    [0. 1.]\n",
      "\t\n",
      "\t\n",
      "\tPosterior quantiles:\n",
      "\t\n",
      "\t2.5             25              50              75             97.5\n",
      "\t |---------------|===============|===============|---------------|\n",
      "\t0.0              0.0             1.0            2.0           3.0\n",
      "\t0.0              0.0             0.0            0.0           1.0\n",
      "\t0.0              0.0             0.0            0.0           1.0\n",
      "\t0.0              0.0             0.0            0.0           1.0\n",
      "\t0.0              0.0             0.0            0.0           1.0\n",
      "\t0.0              0.0             0.0            0.0           1.0\n",
      "\t0.0              0.0             0.0            0.0           1.0\n",
      "\t0.0              0.0             0.0            0.0           1.0\n",
      "\t0.0              0.0             0.0            0.0           1.0\n",
      "\t0.0              0.0             0.0            0.0           1.0\n",
      "\t0.0              0.0             0.0            0.0           1.0\n",
      "\t0.0              0.0             0.0            0.0           1.0\n",
      "\t0.0              0.0             0.0            0.0           1.0\n",
      "\t0.0              0.0             0.0            0.0           1.0\n",
      "\t0.0              0.0             0.0            0.0           2.0\n",
      "\t0.0              0.0             0.0            0.0           2.0\n",
      "\t0.0              0.0             0.0            0.0           2.0\n",
      "\t0.0              0.0             0.0            1.0           2.0\n",
      "\t0.0              0.0             0.0            1.0           2.0\n",
      "\t0.0              0.0             0.0            1.0           2.0\n",
      "\t0.0              0.0             0.0            1.0           2.0\n",
      "\t0.0              0.0             0.0            1.0           2.0\n",
      "\t0.0              0.0             0.0            1.0           2.0\n",
      "\t0.0              0.0             0.0            1.0           2.0\n",
      "\t0.0              0.0             0.0            1.0           2.0\n",
      "\t0.0              0.0             0.0            1.0           2.0\n",
      "\t0.0              0.0             0.0            1.0           2.0\n",
      "\t0.0              0.0             0.0            1.0           2.0\n",
      "\t0.0              0.0             0.0            1.0           3.0\n",
      "\t0.0              0.0             1.0            1.0           3.0\n",
      "\t0.0              0.0             1.0            1.0           3.0\n",
      "\t0.0              0.0             1.0            1.0           3.0\n",
      "\t0.0              0.0             1.0            1.0           3.0\n",
      "\t0.0              0.0             1.0            1.0           3.0\n",
      "\t0.0              0.0             1.0            2.0           3.0\n",
      "\t0.0              0.0             1.0            2.0           3.0\n",
      "\t0.0              0.0             1.0            2.0           4.0\n",
      "\t0.0              0.0             1.0            2.0           4.0\n",
      "\t0.0              0.0             1.0            2.0           4.0\n",
      "\t0.0              1.0             1.0            2.0           4.0\n",
      "\t0.0              1.0             1.0            2.0           4.0\n",
      "\t0.0              1.0             1.0            2.0           4.0\n",
      "\t0.0              1.0             2.0            3.0           5.0\n",
      "\t0.0              1.0             2.0            3.0           5.0\n",
      "\t0.0              1.0             2.0            3.0           5.0\n",
      "\t0.0              1.0             2.0            3.0           5.0\n",
      "\t0.0              1.0             2.0            3.0           6.0\n",
      "\t0.0              1.0             2.0            3.0           6.0\n",
      "\t0.0              1.0             2.0            4.0           6.0\n",
      "\t0.0              2.0             3.0            4.0           6.0\n",
      "\t0.0              2.0             3.0            4.0           7.0\n",
      "\t0.0              2.0             3.0            4.0           7.0\n",
      "\t0.0              2.0             3.0            5.0           7.0\n",
      "\t1.0              2.0             4.0            5.0           8.0\n",
      "\t1.0              3.0             4.0            5.0           8.0\n",
      "\t1.0              3.0             4.0            6.0           9.0\n",
      "\t1.0              3.0             4.0            6.0           9.0\n",
      "\t1.0              3.0             5.0            6.0           10.0\n",
      "\t1.0              4.0             5.0            7.0           10.0\n",
      "\t2.0              4.0             6.0            7.0           11.0\n",
      "\t2.0              4.0             6.0            8.0           11.0\n",
      "\t2.0              5.0             6.0            8.0           12.0\n",
      "\t2.0              5.0             7.0            9.0           13.0\n",
      "\t3.0              6.0             7.0            9.0           13.0\n",
      "\t3.0              6.0             8.0            10.0          14.0\n",
      "\t4.0              7.0             9.0            11.0          15.0\n",
      "\t4.0              7.0             9.0            11.0          16.0\n",
      "\t4.0              8.0             10.0           12.0          17.0\n",
      "\t5.0              9.0             11.0           13.0          18.0\n",
      "\t6.0              9.0             12.0           14.0          19.0\n",
      "\t6.0              10.0            13.0           15.0          20.0\n",
      "\t7.0              11.0            13.0           16.0          21.0\n",
      "\t8.0              12.0            15.0           17.0          23.0\n",
      "\t9.0              13.0            16.0           18.0          24.0\n",
      "\t10.0             14.0            17.0           20.0          26.0\n",
      "\t11.0             16.0            18.0           21.0          27.0\n",
      "\t12.0             17.0            20.0           23.0          29.0\n",
      "\t13.0             18.0            21.0           25.0          31.0\n",
      "\t14.0             20.0            23.0           27.0          33.0\n",
      "\t16.0             22.0            25.0           29.0          36.0\n",
      "\t18.0             24.0            27.0           31.0          38.0\n",
      "\t19.0             26.0            29.0           33.0          41.0\n",
      "\t22.0             28.0            32.0           36.0          44.0\n",
      "\t24.0             31.0            35.0           39.0          47.0\n",
      "\t27.0             34.0            38.0           42.0          50.0\n",
      "\t29.0             37.0            41.0           45.0          54.0\n",
      "\t32.0             40.0            44.0           49.0          58.0\n",
      "\t35.0             44.0            48.0           53.0          63.0\n",
      "\t39.0             48.0            52.0           57.0          67.0\n",
      "\t43.0             52.0            57.0           62.0          73.0\n",
      "\t47.0             57.0            62.0           68.0          78.0\n",
      "\t52.0             62.0            68.0           73.0          85.0\n",
      "\t57.0             68.0            73.0           80.0          91.0\n",
      "\t63.0             74.0            80.0           86.0          99.0\n",
      "\t69.0             81.0            87.0           94.0          106.0\n",
      "\t76.0             88.0            95.0           102.0         115.0\n",
      "\t84.0             96.0            103.0          110.0         124.0\n",
      "\t92.0             105.0           112.0          120.0         134.0\n",
      "\t101.0            114.0           122.0          130.0         145.0\n",
      "\t110.0            124.0           132.0          140.0         156.0\n",
      "\t120.0            135.0           143.0          152.0         168.0\n",
      "\t131.0            147.0           155.0          164.0         181.0\n",
      "\t143.0            159.0           167.0          176.0         194.0\n",
      "\t154.0            172.0           181.0          190.0         208.0\n",
      "\t166.0            184.0           194.0          204.0         223.0\n",
      "\t179.0            198.0           208.0          218.0         237.0\n",
      "\t193.0            212.0           222.0          232.0         252.0\n",
      "\t205.0            225.0           236.0          247.0         267.0\n",
      "\t218.0            239.0           250.0          261.0         282.0\n",
      "\t231.0            252.0           264.0          275.0         297.0\n",
      "\t244.0            265.0           276.0          288.0         310.0\n",
      "\t255.0            277.0           288.0          300.0         323.0\n",
      "\t265.0            287.0           299.0          311.0         334.0\n",
      "\t275.0            297.0           309.0          321.0         345.0\n",
      "\t282.0            305.0           317.0          329.0         353.0\n",
      "\t289.0            311.0           323.0          335.0         359.0\n",
      "\t293.0            316.0           328.0          340.0         364.0\n",
      "\t295.0            318.0           330.0          342.0         366.0\n",
      "\t295.0            319.0           331.0          343.0         367.0\n",
      "\t294.0            317.0           330.0          342.0         366.0\n",
      "\t292.0            314.0           327.0          339.0         362.0\n",
      "\t287.0            310.0           322.0          334.0         357.0\n",
      "\t281.0            303.0           315.0          327.0         351.0\n",
      "\t274.0            296.0           307.0          319.0         343.0\n",
      "\t265.0            287.0           298.0          310.0         333.0\n",
      "\t256.0            277.0           288.0          300.0         322.0\n",
      "\t245.0            266.0           278.0          289.0         311.0\n",
      "\t235.0            255.0           266.0          277.0         299.0\n",
      "\t223.0            243.0           254.0          265.0         286.0\n",
      "\t212.0            232.0           242.0          253.0         274.0\n",
      "\t201.0            220.0           230.0          240.0         261.0\n",
      "\t189.0            208.0           218.0          228.0         248.0\n",
      "\t178.0            196.0           206.0          216.0         235.0\n",
      "\t166.0            184.0           194.0          203.0         222.0\n",
      "\t156.0            173.0           182.0          191.0         210.0\n",
      "\t145.0            162.0           171.0          180.0         197.0\n",
      "\t135.0            151.0           160.0          168.0         186.0\n",
      "\t126.0            141.0           149.0          158.0         174.0\n",
      "\t116.0            131.0           139.0          147.0         164.0\n",
      "\t107.0            122.0           130.0          137.0         153.0\n",
      "\t99.0             113.0           120.0          128.0         143.0\n",
      "\t91.0             105.0           112.0          119.0         133.0\n",
      "\t84.0             97.0            104.0          111.0         125.0\n",
      "\t77.0             89.0            96.0           103.0         116.0\n",
      "\t71.0             83.0            89.0           95.0          109.0\n",
      "\t65.0             76.0            82.0           88.0          101.0\n",
      "\t59.0             70.0            76.0           82.0          94.0\n",
      "\t54.0             64.0            70.0           76.0          87.0\n",
      "\t49.0             59.0            64.0           70.0          81.0\n",
      "\t45.0             54.0            59.0           65.0          75.0\n",
      "\t41.0             50.0            55.0           60.0          70.0\n",
      "\t37.0             45.0            50.0           55.0          65.0\n",
      "\t33.0             42.0            46.0           51.0          60.0\n",
      "\t30.0             38.0            42.0           47.0          56.0\n",
      "\t27.0             35.0            39.0           43.0          52.0\n",
      "\t24.0             32.0            36.0           40.0          48.0\n",
      "\t22.0             29.0            33.0           36.0          44.0\n",
      "\t20.0             26.0            30.0           34.0          41.0\n",
      "\t18.0             24.0            27.0           31.0          38.0\n",
      "\t16.0             22.0            25.0           28.0          36.0\n",
      "\t14.0             20.0            23.0           26.0          33.0\n",
      "\t12.0             18.0            21.0           24.0          30.0\n",
      "\t11.0             16.0            19.0           22.0          28.0\n",
      "\t10.0             15.0            17.0           20.0          26.0\n",
      "\t9.0              13.0            16.0           19.0          24.0\n",
      "\t8.0              12.0            14.0           17.0          22.0\n",
      "\t7.0              11.0            13.0           16.0          21.0\n",
      "\t6.0              10.0            12.0           14.0          19.0\n",
      "\t5.0              9.0             11.0           13.0          18.0\n",
      "\t4.0              8.0             10.0           12.0          17.0\n",
      "\t4.0              7.0             9.0            11.0          16.0\n",
      "\t3.0              6.0             8.0            10.0          14.0\n",
      "\t3.0              6.0             7.0            9.0           13.0\n",
      "\t2.0              5.0             7.0            9.0           12.0\n",
      "\t2.0              4.0             6.0            8.0           12.0\n",
      "\t2.0              4.0             6.0            7.0           11.0\n",
      "\t1.0              4.0             5.0            7.0           10.0\n",
      "\t1.0              3.0             5.0            6.0           9.0\n",
      "\t1.0              3.0             4.0            6.0           9.0\n",
      "\t1.0              2.0             4.0            5.0           8.0\n",
      "\t0.0              2.0             3.0            5.0           8.0\n",
      "\t0.0              2.0             3.0            4.0           7.0\n",
      "\t0.0              2.0             3.0            4.0           7.0\n",
      "\t0.0              1.0             2.0            4.0           6.0\n",
      "\t0.0              1.0             2.0            3.0           6.0\n",
      "\t0.0              1.0             2.0            3.0           5.0\n",
      "\t0.0              1.0             2.0            3.0           5.0\n",
      "\t0.0              1.0             2.0            3.0           5.0\n",
      "\t0.0              1.0             1.0            2.0           5.0\n",
      "\t0.0              1.0             1.0            2.0           4.0\n",
      "\t0.0              0.0             1.0            2.0           4.0\n",
      "\t0.0              0.0             1.0            2.0           4.0\n",
      "\t0.0              0.0             1.0            2.0           3.0\n",
      "\t0.0              0.0             1.0            2.0           3.0\n",
      "\t0.0              0.0             1.0            1.0           3.0\n",
      "\t0.0              0.0             1.0            1.0           3.0\n",
      "\t0.0              0.0             1.0            1.0           3.0\n",
      "\t0.0              0.0             0.0            1.0           3.0\n",
      "\t0.0              0.0             0.0            1.0           2.0\n",
      "\t0.0              0.0             0.0            1.0           2.0\n",
      "\t0.0              0.0             0.0            1.0           2.0\n",
      "\t0.0              0.0             0.0            1.0           2.0\n",
      "\t0.0              0.0             0.0            1.0           2.0\n",
      "\t0.0              0.0             0.0            1.0           2.0\n",
      "\t0.0              0.0             0.0            1.0           2.0\n",
      "\t0.0              0.0             0.0            1.0           2.0\n",
      "\t0.0              0.0             0.0            0.0           2.0\n",
      "\t0.0              0.0             0.0            0.0           1.0\n",
      "\t0.0              0.0             0.0            0.0           1.0\n",
      "\t0.0              0.0             0.0            0.0           1.0\n",
      "\t0.0              0.0             0.0            0.0           1.0\n",
      "\t0.0              0.0             0.0            0.0           1.0\n",
      "\t0.0              0.0             0.0            0.0           1.0\n",
      "\t0.0              0.0             0.0            0.0           1.0\n",
      "\t0.0              0.0             0.0            0.0           1.0\n",
      "\t0.0              0.0             0.0            0.0           1.0\n",
      "\t0.0              0.0             0.0            0.0           1.0\n",
      "\t\n",
      "\n",
      "sus_frac:\n",
      " \n",
      "\tMean             SD               MC Error        95% HPD interval\n",
      "\t------------------------------------------------------------------\n",
      "\t1.0              0.0              0.0                [0.999 1.   ]\n",
      "\t\n",
      "\t\n",
      "\tPosterior quantiles:\n",
      "\t\n",
      "\t2.5             25              50              75             97.5\n",
      "\t |---------------|===============|===============|---------------|\n",
      "\t0.999            1.0             1.0            1.0           1.0\n",
      "\t\n"
     ]
    }
   ],
   "source": [
    "mc.summary()"
   ]
  },
  {
   "cell_type": "code",
   "execution_count": 10,
   "metadata": {},
   "outputs": [],
   "source": [
    "mc.write_csv('rats.csv')"
   ]
  },
  {
   "cell_type": "code",
   "execution_count": 5,
   "metadata": {
    "collapsed": false
   },
   "outputs": [
    {
     "name": "stdout",
     "output_type": "stream",
     "text": [
      "Warning: Stochastic mortality_sim's value is neither numerical nor array with floating-point dtype. Recommend fitting method fmin (default).\n"
     ]
    },
    {
     "data": {
      "text/plain": [
       "56750.190023460964"
      ]
     },
     "execution_count": 5,
     "metadata": {},
     "output_type": "execute_result"
    }
   ],
   "source": [
    "M = pm.MAP(mc)\n",
    "M.fit()\n",
    "M.BIC"
   ]
  },
  {
   "cell_type": "markdown",
   "metadata": {},
   "source": [
    "#### Plot the posteriors"
   ]
  },
  {
   "cell_type": "code",
   "execution_count": 6,
   "metadata": {
    "collapsed": false
   },
   "outputs": [
    {
     "ename": "NameError",
     "evalue": "name 'plot' is not defined",
     "output_type": "error",
     "traceback": [
      "\u001b[0;31m---------------------------------------------------------------------------\u001b[0m",
      "\u001b[0;31mNameError\u001b[0m                                 Traceback (most recent call last)",
      "\u001b[0;32m<ipython-input-6-9340e78a80fd>\u001b[0m in \u001b[0;36m<module>\u001b[0;34m\u001b[0m\n\u001b[1;32m      1\u001b[0m \u001b[0mget_ipython\u001b[0m\u001b[0;34m(\u001b[0m\u001b[0;34m)\u001b[0m\u001b[0;34m.\u001b[0m\u001b[0mrun_line_magic\u001b[0m\u001b[0;34m(\u001b[0m\u001b[0;34m'matplotlib'\u001b[0m\u001b[0;34m,\u001b[0m \u001b[0;34m'inline'\u001b[0m\u001b[0;34m)\u001b[0m\u001b[0;34m\u001b[0m\u001b[0;34m\u001b[0m\u001b[0m\n\u001b[0;32m----> 2\u001b[0;31m \u001b[0mplot\u001b[0m\u001b[0;34m(\u001b[0m\u001b[0mmc\u001b[0m\u001b[0;34m)\u001b[0m\u001b[0;34m\u001b[0m\u001b[0;34m\u001b[0m\u001b[0m\n\u001b[0m",
      "\u001b[0;31mNameError\u001b[0m: name 'plot' is not defined"
     ]
    }
   ],
   "source": [
    "%matplotlib inline\n",
    "plot(mc)"
   ]
  },
  {
   "cell_type": "markdown",
   "metadata": {},
   "source": [
    "#### Plot the fit"
   ]
  },
  {
   "cell_type": "code",
   "execution_count": 7,
   "metadata": {
    "collapsed": false,
    "scrolled": true
   },
   "outputs": [
    {
     "data": {
      "text/plain": [
       "<matplotlib.legend.Legend at 0x7fdb6bfe7080>"
      ]
     },
     "execution_count": 7,
     "metadata": {},
     "output_type": "execute_result"
    },
    {
     "data": {
      "image/png": "[encoded data removed]",
      "text/plain": [
       "<Figure size 720x720 with 1 Axes>"
      ]
     },
     "metadata": {
      "needs_background": "light"
     },
     "output_type": "display_data"
    }
   ],
   "source": [
    "%matplotlib inline\n",
    "plt.figure(figsize=(10,10))\n",
    "plt.title('Barcelona 1490')\n",
    "plt.xlabel('Day')\n",
    "plt.ylabel('Deaths')\n",
    "plt.plot(mortality_data, 'o', mec='black', color='black', label='Observed deaths')\n",
    "plt.plot(mortality_sim.stats()['mean'], color='red', linewidth=1, label='BPL (mean)')\n",
    "y_min = mortality_sim.stats()['quantiles'][2.5]\n",
    "y_max = mortality_sim.stats()['quantiles'][97.5]\n",
    "plt.fill_between(range(0,len(mortality_data)), y_min, y_max, color='r', alpha=0.3, label='BPL (95% CI)')\n",
    "plt.legend()"
   ]
  },
  {
   "cell_type": "code",
   "execution_count": null,
   "metadata": {
    "collapsed": true
   },
   "outputs": [],
   "source": []
  }
 ],
 "metadata": {
  "anaconda-cloud": {},
  "interpreter": {
   "hash": "7e9fd7154bd4627e9ceb3ca411bcd581fc0bb116b1b5b6e1a8355da1e2ffc32c"
  },
  "kernelspec": {
   "display_name": "Python 3.6.13 64-bit ('jotpy': conda)",
   "name": "python3"
  },
  "language_info": {
   "codemirror_mode": {
    "name": "ipython",
    "version": 3
   },
   "file_extension": ".py",
   "mimetype": "text/x-python",
   "name": "python",
   "nbconvert_exporter": "python",
   "pygments_lexer": "ipython3",
   "version": "3.6.13"
  }
 },
 "nbformat": 4,
 "nbformat_minor": 1
}
