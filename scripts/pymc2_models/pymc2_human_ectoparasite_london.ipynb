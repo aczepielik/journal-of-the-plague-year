{
 "cells": [
  {
   "cell_type": "markdown",
   "metadata": {},
   "source": [
    "## Human ectoparasite model for Barcelona 1490"
   ]
  },
  {
   "cell_type": "markdown",
   "metadata": {},
   "source": [
    "#### Import packages"
   ]
  },
  {
   "cell_type": "code",
   "execution_count": 1,
   "metadata": {
    "collapsed": true
   },
   "outputs": [],
   "source": [
    "import numpy as np\n",
    "import pymc as pm\n",
    "import matplotlib.pyplot as plt\n",
    "#from pymc.Matplot import plot\n",
    "import scipy.stats"
   ]
  },
  {
   "cell_type": "markdown",
   "metadata": {},
   "source": [
    "#### Import observed data"
   ]
  },
  {
   "cell_type": "code",
   "execution_count": 2,
   "metadata": {
    "collapsed": true
   },
   "outputs": [],
   "source": [
    "london = np.array([2, 2, 2, 2, 2, 2, 2, 1, 2, 3, 2, 3, 2, 4, 3, 4, 5, 5, 7, 9, 10, 11, 14, 14, 17, 17, 19, 20, 20, 21, 23, 23, 25, 27, 29, 30, 32, 35, 39, 41, 45, 49, 53, 57, 63, 67, 72, 78, 84, 89, 94, 100, 105, 110, 114, 118, 122, 128, 139, 150, 165, 184, 204, 226, 246, 261, 272, 279, 282, 281, 276, 275, 276, 282, 290, 303, 319, 337, 359, 381, 405, 431, 457, 486, 514, 538, 556, 569, 575, 577, 572, 565, 563, 572, 588, 616, 651, 696, 747, 797, 842, 882, 917, 947, 974, 994, 1008, 1015, 1014, 1007, 992, 970, 943, 924, 915, 916, 927, 948, 980, 1016, 1043, 1055, 1054, 1037, 1006, 961, 904, 854, 811, 775, 749, 730, 721, 716, 714, 711, 706, 701, 696, 689, 680, 668, 651, 628, 601, 568, 531, 488, 449, 411, 376, 344, 313, 287, 261, 238, 218, 199, 182, 169, 156, 146, 139, 138, 140, 145, 155, 169, 184, 199, 206, 211, 211, 206, 197, 183, 171, 159, 148, 138, 129, 122, 114, 107, 101, 93, 86, 79, 72, 64, 57, 52, 46, 41, 38, 36, 32, 31, 30, 29, 29, 29, 31, 31, 33, 33, 35, 36, 37, 38, 38, 38, 40, 40, 41, 41, 43])\n",
    "mortality_data = london\n",
    "t = len(mortality_data)"
   ]
  },
  {
   "cell_type": "markdown",
   "metadata": {},
   "source": [
    "#### Set up the model"
   ]
  },
  {
   "cell_type": "code",
   "execution_count": 3,
   "metadata": {
    "collapsed": true
   },
   "outputs": [],
   "source": [
    "__all__ = ['mortality_data', 'beta_1','beta_2','beta_h', 'gamma', 'sigma', 'mu', 'lice_index', \n",
    "           'E_0', 'I_0', 'R_0', 'D_0', 'D_h',\n",
    "           'pop_size', 'sus_frac',\n",
    "           'mortality', 'mortality_sim']\n",
    "\n",
    "#Parameters\n",
    "beta_1 = pm.Uniform('beta_1', 1e-9, .05)\n",
    "beta_2 = pm.Uniform('beta_2', 1e-9, 1.)\n",
    "beta_h = 0.05\n",
    "sigma = 1/8.\n",
    "gamma = 1/2.\n",
    "mu = .6\n",
    "lice_index = 15.0\n",
    "pop_size = 360000.0\n",
    "sus_frac = pm.Uniform('sus_frac', 1e-9, 1.)\n",
    "\n",
    "#Initial conditions\n",
    "S_0 = pop_size*sus_frac\n",
    "I1_0 = pm.Uniform('I1_0', 1., 10.)\n",
    "I2_0 = 2.\n",
    "R_0 = 0.\n",
    "D_0 = 1.\n",
    "\n",
    "#SIIRD + vector model for human ectoparasite plague\n",
    "@pm.deterministic\n",
    "def SIRD(S_0=S_0, I1_0=I1_0, I2_0=I2_0, R_0=R_0, D_0=D_0, \n",
    "         beta_1=beta_1, beta_2=beta_2, beta_h=beta_h, \n",
    "         gamma=gamma, sigma=sigma, lice_index=lice_index):\n",
    "    S_h = np.zeros(t)\n",
    "    I1_h = np.zeros(t)\n",
    "    I2_h = np.zeros(t)\n",
    "    R_h = np.zeros(t)\n",
    "    D_h = np.zeros(t)\n",
    "    \n",
    "    S_v= np.zeros(t)\n",
    "    I_v = np.zeros(t)\n",
    "    \n",
    "    S_h[0] = S_0\n",
    "    I1_h[0] = I1_0\n",
    "    I2_h[0] = I2_0\n",
    "    R_h[0] = R_0\n",
    "    D_h[0] = D_0\n",
    "    \n",
    "    S_v[0] = lice_index*(S_0+R_0)\n",
    "    I_v[0] = lice_index*I1_0\n",
    "\n",
    "    for i in range(1, t):\n",
    "        N_h = S_h[i-1] + I1_h[i-1] + I2_h[i-1] + R_h[i-1]\n",
    "        \n",
    "        new_I1 = beta_h*S_h[i-1]*I_v[i-1]/N_h #min(S_h[i-1], beta_h*S_h[i-1]*I_v[i-1]/N_h)\n",
    "        new_I2_and_R = sigma*I1_h[i-1] #min(I1_h[i-1], sigma*I1_h[i-1])\n",
    "        new_I2 = mu*new_I2_and_R\n",
    "        new_recovered = new_I2_and_R - new_I2\n",
    "        new_dead = gamma*I2_h[i-1]#min(I2_h[i-1], gamma*I2_h[i-1])\n",
    "\n",
    "        S_h[i] = S_h[i-1] - new_I1\n",
    "        I1_h[i] = I1_h[i-1] + new_I1 - new_I2_and_R\n",
    "        I2_h[i] = I2_h[i-1] + new_I2 - new_dead\n",
    "        R_h[i] = R_h[i-1] + new_recovered\n",
    "        D_h[i] = new_dead\n",
    "\n",
    "        lice_K = lice_index*N_h\n",
    "        #if (S_v[i-1]+I_v[i-1]/lice_K) < 1:\n",
    "        lice_births = 0.111*S_v[i-1]*(1-(S_v[i-1]+I_v[i-1])/lice_K)\n",
    "        #elif (S_v[i-1]+I_v[i-1]/lice_K) > 1:\n",
    "        #    lice_births = 0.\n",
    "\n",
    "        new_I1_infected_lice = beta_1*S_v[i-1]*I1_h[i-1]/N_h\n",
    "        new_I2_infected_lice = beta_2*S_v[i-1]*I2_h[i-1]/N_h\n",
    "        new_removed_lice = 0.33*I_v[i-1]\n",
    "\n",
    "        new_infected_lice = min(S_v[i-1],((beta_1*S_v[i-1]*I1_h[i-1]/N_h) + (beta_2*S_v[i-1]*I2_h[i-1]/N_h)))\n",
    "        new_removed_lice = 0.33*I_v[i-1]\n",
    "\n",
    "        S_v[i] = S_v[i-1] + lice_births - new_infected_lice\n",
    "        I_v[i] = I_v[i-1] + new_infected_lice - new_removed_lice\n",
    "        \n",
    "    return S_h,I1_h,I2_h,R_h,D_h,S_v,I_v\n",
    "\n",
    "D_h = pm.Lambda('D_h', lambda SIRD=SIRD: SIRD[4])\n",
    "\n",
    "#Likelihood\n",
    "mortality = pm.Poisson('mortality', mu=D_h, value=mortality_data, observed=True)\n",
    "mortality_sim = pm.Poisson('mortality_sim', mu=D_h)"
   ]
  },
  {
   "cell_type": "code",
   "execution_count": 4,
   "metadata": {},
   "outputs": [],
   "source": [
    "def SIRD2(S_0=S_0, I1_0=I1_0, I2_0=I2_0, R_0=R_0, D_0=D_0, \n",
    "         beta_1=beta_1, beta_2=beta_2, beta_h=beta_h, \n",
    "         gamma=gamma, sigma=sigma, lice_index=lice_index):\n",
    "    S_h = np.zeros(t)\n",
    "    I1_h = np.zeros(t)\n",
    "    I2_h = np.zeros(t)\n",
    "    R_h = np.zeros(t)\n",
    "    D_h = np.zeros(t)\n",
    "    \n",
    "    S_v= np.zeros(t)\n",
    "    I_v = np.zeros(t)\n",
    "    \n",
    "    S_h[0] = S_0\n",
    "    I1_h[0] = I1_0\n",
    "    I2_h[0] = I2_0\n",
    "    R_h[0] = R_0\n",
    "    D_h[0] = D_0\n",
    "    \n",
    "    S_v[0] = lice_index*(S_0+R_0)\n",
    "    I_v[0] = lice_index*I1_0\n",
    "\n",
    "    for i in range(1, t):\n",
    "        N_h = S_h[i-1] + I1_h[i-1] + I2_h[i-1] + R_h[i-1]\n",
    "        \n",
    "        new_I1 = beta_h*S_h[i-1]*I_v[i-1]/N_h #min(S_h[i-1], beta_h*S_h[i-1]*I_v[i-1]/N_h)\n",
    "        new_I2_and_R = sigma*I1_h[i-1] #min(I1_h[i-1], sigma*I1_h[i-1])\n",
    "        new_I2 = mu*new_I2_and_R\n",
    "        new_recovered = new_I2_and_R - new_I2\n",
    "        new_dead = gamma*I2_h[i-1]#min(I2_h[i-1], gamma*I2_h[i-1])\n",
    "\n",
    "        S_h[i] = S_h[i-1] - new_I1\n",
    "        I1_h[i] = I1_h[i-1] + new_I1 - new_I2_and_R\n",
    "        I2_h[i] = I2_h[i-1] + new_I2 - new_dead\n",
    "        R_h[i] = R_h[i-1] + new_recovered\n",
    "        D_h[i] = new_dead\n",
    "\n",
    "        lice_K = lice_index*N_h\n",
    "        #if (S_v[i-1]+I_v[i-1]/lice_K) < 1:\n",
    "        lice_births = 0.111*S_v[i-1]*(1-(S_v[i-1]+I_v[i-1])/lice_K)\n",
    "        #elif (S_v[i-1]+I_v[i-1]/lice_K) > 1:\n",
    "        #    lice_births = 0.\n",
    "\n",
    "        new_I1_infected_lice = beta_1*S_v[i-1]*I1_h[i-1]/N_h\n",
    "        new_I2_infected_lice = beta_2*S_v[i-1]*I2_h[i-1]/N_h\n",
    "        new_removed_lice = 0.33*I_v[i-1]\n",
    "\n",
    "        new_infected_lice = new_I1_infected_lice + new_I2_infected_lice\n",
    "        new_removed_lice = 0.33*I_v[i-1]\n",
    "\n",
    "        S_v[i] = S_v[i-1] + lice_births - new_infected_lice\n",
    "        I_v[i] = I_v[i-1] + new_infected_lice - new_removed_lice\n",
    "        \n",
    "    return S_h,I1_h,I2_h,R_h,D_h,S_v,I_v\n",
    "\n",
    "single_sim = SIRD2(beta_1=0.05, beta_2=0.43, S_0=pop_size*0.34, I1_0=10)"
   ]
  },
  {
   "cell_type": "code",
   "execution_count": 29,
   "metadata": {},
   "outputs": [
    {
     "data": {
      "text/plain": [
       "[<matplotlib.lines.Line2D at 0x7fc86f49f048>]"
      ]
     },
     "execution_count": 29,
     "metadata": {},
     "output_type": "execute_result"
    },
    {
     "data": {
      "image/png": "[encoded data removed]",
      "image/svg+xml": "<?xml version=\"1.0\" encoding=\"utf-8\" standalone=\"no\"?>\n<!DOCTYPE svg PUBLIC \"-//W3C//DTD SVG 1.1//EN\"\n  \"http://www.w3.org/Graphics/SVG/1.1/DTD/svg11.dtd\">\n<!-- Created with matplotlib (https://matplotlib.org/) -->\n<svg height=\"248.518125pt\" version=\"1.1\" viewBox=\"0 0 394.375 248.518125\" width=\"394.375pt\" xmlns=\"http://www.w3.org/2000/svg\" xmlns:xlink=\"http://www.w3.org/1999/xlink\">\n <metadata>\n  <rdf:RDF xmlns:cc=\"http://creativecommons.org/ns#\" xmlns:dc=\"http://purl.org/dc/elements/1.1/\" xmlns:rdf=\"http://www.w3.org/1999/02/22-rdf-syntax-ns#\">\n   <cc:Work>\n    <dc:type rdf:resource=\"http://purl.org/dc/dcmitype/StillImage\"/>\n    <dc:date>2021-05-24T21:57:48.348833</dc:date>\n    <dc:format>image/svg+xml</dc:format>\n    <dc:creator>\n     <cc:Agent>\n      <dc:title>Matplotlib v3.3.4, https://matplotlib.org/</dc:title>\n     </cc:Agent>\n    </dc:creator>\n   </cc:Work>\n  </rdf:RDF>\n </metadata>\n <defs>\n  <style type=\"text/css\">*{stroke-linecap:butt;stroke-linejoin:round;}</style>\n </defs>\n <g id=\"figure_1\">\n  <g id=\"patch_1\">\n   <path d=\"M 0 248.518125 \nL 394.375 248.518125 \nL 394.375 0 \nL 0 0 \nz\n\" style=\"fill:none;\"/>\n  </g>\n  <g id=\"axes_1\">\n   <g id=\"patch_2\">\n    <path d=\"M 52.375 224.64 \nL 387.175 224.64 \nL 387.175 7.2 \nL 52.375 7.2 \nz\n\" style=\"fill:#ffffff;\"/>\n   </g>\n   <g id=\"matplotlib.axis_1\">\n    <g id=\"xtick_1\">\n     <g id=\"line2d_1\">\n      <defs>\n       <path d=\"M 0 0 \nL 0 3.5 \n\" id=\"m72ec235fd2\" style=\"stroke:#000000;stroke-width:0.8;\"/>\n      </defs>\n      <g>\n       <use style=\"stroke:#000000;stroke-width:0.8;\" x=\"67.593182\" xlink:href=\"#m72ec235fd2\" y=\"224.64\"/>\n      </g>\n     </g>\n     <g id=\"text_1\">\n      <!-- 0 -->\n      <g transform=\"translate(64.411932 239.238437)scale(0.1 -0.1)\">\n       <defs>\n        <path d=\"M 31.78125 66.40625 \nQ 24.171875 66.40625 20.328125 58.90625 \nQ 16.5 51.421875 16.5 36.375 \nQ 16.5 21.390625 20.328125 13.890625 \nQ 24.171875 6.390625 31.78125 6.390625 \nQ 39.453125 6.390625 43.28125 13.890625 \nQ 47.125 21.390625 47.125 36.375 \nQ 47.125 51.421875 43.28125 58.90625 \nQ 39.453125 66.40625 31.78125 66.40625 \nz\nM 31.78125 74.21875 \nQ 44.046875 74.21875 50.515625 64.515625 \nQ 56.984375 54.828125 56.984375 36.375 \nQ 56.984375 17.96875 50.515625 8.265625 \nQ 44.046875 -1.421875 31.78125 -1.421875 \nQ 19.53125 -1.421875 13.0625 8.265625 \nQ 6.59375 17.96875 6.59375 36.375 \nQ 6.59375 54.828125 13.0625 64.515625 \nQ 19.53125 74.21875 31.78125 74.21875 \nz\n\" id=\"DejaVuSans-48\"/>\n       </defs>\n       <use xlink:href=\"#DejaVuSans-48\"/>\n      </g>\n     </g>\n    </g>\n    <g id=\"xtick_2\">\n     <g id=\"line2d_2\">\n      <g>\n       <use style=\"stroke:#000000;stroke-width:0.8;\" x=\"138.047727\" xlink:href=\"#m72ec235fd2\" y=\"224.64\"/>\n      </g>\n     </g>\n     <g id=\"text_2\">\n      <!-- 50 -->\n      <g transform=\"translate(131.685227 239.238437)scale(0.1 -0.1)\">\n       <defs>\n        <path d=\"M 10.796875 72.90625 \nL 49.515625 72.90625 \nL 49.515625 64.59375 \nL 19.828125 64.59375 \nL 19.828125 46.734375 \nQ 21.96875 47.46875 24.109375 47.828125 \nQ 26.265625 48.1875 28.421875 48.1875 \nQ 40.625 48.1875 47.75 41.5 \nQ 54.890625 34.8125 54.890625 23.390625 \nQ 54.890625 11.625 47.5625 5.09375 \nQ 40.234375 -1.421875 26.90625 -1.421875 \nQ 22.3125 -1.421875 17.546875 -0.640625 \nQ 12.796875 0.140625 7.71875 1.703125 \nL 7.71875 11.625 \nQ 12.109375 9.234375 16.796875 8.0625 \nQ 21.484375 6.890625 26.703125 6.890625 \nQ 35.15625 6.890625 40.078125 11.328125 \nQ 45.015625 15.765625 45.015625 23.390625 \nQ 45.015625 31 40.078125 35.4375 \nQ 35.15625 39.890625 26.703125 39.890625 \nQ 22.75 39.890625 18.8125 39.015625 \nQ 14.890625 38.140625 10.796875 36.28125 \nz\n\" id=\"DejaVuSans-53\"/>\n       </defs>\n       <use xlink:href=\"#DejaVuSans-53\"/>\n       <use x=\"63.623047\" xlink:href=\"#DejaVuSans-48\"/>\n      </g>\n     </g>\n    </g>\n    <g id=\"xtick_3\">\n     <g id=\"line2d_3\">\n      <g>\n       <use style=\"stroke:#000000;stroke-width:0.8;\" x=\"208.502273\" xlink:href=\"#m72ec235fd2\" y=\"224.64\"/>\n      </g>\n     </g>\n     <g id=\"text_3\">\n      <!-- 100 -->\n      <g transform=\"translate(198.958523 239.238437)scale(0.1 -0.1)\">\n       <defs>\n        <path d=\"M 12.40625 8.296875 \nL 28.515625 8.296875 \nL 28.515625 63.921875 \nL 10.984375 60.40625 \nL 10.984375 69.390625 \nL 28.421875 72.90625 \nL 38.28125 72.90625 \nL 38.28125 8.296875 \nL 54.390625 8.296875 \nL 54.390625 0 \nL 12.40625 0 \nz\n\" id=\"DejaVuSans-49\"/>\n       </defs>\n       <use xlink:href=\"#DejaVuSans-49\"/>\n       <use x=\"63.623047\" xlink:href=\"#DejaVuSans-48\"/>\n       <use x=\"127.246094\" xlink:href=\"#DejaVuSans-48\"/>\n      </g>\n     </g>\n    </g>\n    <g id=\"xtick_4\">\n     <g id=\"line2d_4\">\n      <g>\n       <use style=\"stroke:#000000;stroke-width:0.8;\" x=\"278.956818\" xlink:href=\"#m72ec235fd2\" y=\"224.64\"/>\n      </g>\n     </g>\n     <g id=\"text_4\">\n      <!-- 150 -->\n      <g transform=\"translate(269.413068 239.238437)scale(0.1 -0.1)\">\n       <use xlink:href=\"#DejaVuSans-49\"/>\n       <use x=\"63.623047\" xlink:href=\"#DejaVuSans-53\"/>\n       <use x=\"127.246094\" xlink:href=\"#DejaVuSans-48\"/>\n      </g>\n     </g>\n    </g>\n    <g id=\"xtick_5\">\n     <g id=\"line2d_5\">\n      <g>\n       <use style=\"stroke:#000000;stroke-width:0.8;\" x=\"349.411364\" xlink:href=\"#m72ec235fd2\" y=\"224.64\"/>\n      </g>\n     </g>\n     <g id=\"text_5\">\n      <!-- 200 -->\n      <g transform=\"translate(339.867614 239.238437)scale(0.1 -0.1)\">\n       <defs>\n        <path d=\"M 19.1875 8.296875 \nL 53.609375 8.296875 \nL 53.609375 0 \nL 7.328125 0 \nL 7.328125 8.296875 \nQ 12.9375 14.109375 22.625 23.890625 \nQ 32.328125 33.6875 34.8125 36.53125 \nQ 39.546875 41.84375 41.421875 45.53125 \nQ 43.3125 49.21875 43.3125 52.78125 \nQ 43.3125 58.59375 39.234375 62.25 \nQ 35.15625 65.921875 28.609375 65.921875 \nQ 23.96875 65.921875 18.8125 64.3125 \nQ 13.671875 62.703125 7.8125 59.421875 \nL 7.8125 69.390625 \nQ 13.765625 71.78125 18.9375 73 \nQ 24.125 74.21875 28.421875 74.21875 \nQ 39.75 74.21875 46.484375 68.546875 \nQ 53.21875 62.890625 53.21875 53.421875 \nQ 53.21875 48.921875 51.53125 44.890625 \nQ 49.859375 40.875 45.40625 35.40625 \nQ 44.1875 33.984375 37.640625 27.21875 \nQ 31.109375 20.453125 19.1875 8.296875 \nz\n\" id=\"DejaVuSans-50\"/>\n       </defs>\n       <use xlink:href=\"#DejaVuSans-50\"/>\n       <use x=\"63.623047\" xlink:href=\"#DejaVuSans-48\"/>\n       <use x=\"127.246094\" xlink:href=\"#DejaVuSans-48\"/>\n      </g>\n     </g>\n    </g>\n   </g>\n   <g id=\"matplotlib.axis_2\">\n    <g id=\"ytick_1\">\n     <g id=\"line2d_6\">\n      <defs>\n       <path d=\"M 0 0 \nL -3.5 0 \n\" id=\"m78fa0c421a\" style=\"stroke:#000000;stroke-width:0.8;\"/>\n      </defs>\n      <g>\n       <use style=\"stroke:#000000;stroke-width:0.8;\" x=\"52.375\" xlink:href=\"#m78fa0c421a\" y=\"194.389358\"/>\n      </g>\n     </g>\n     <g id=\"text_6\">\n      <!-- 20000 -->\n      <g transform=\"translate(13.5625 198.188577)scale(0.1 -0.1)\">\n       <use xlink:href=\"#DejaVuSans-50\"/>\n       <use x=\"63.623047\" xlink:href=\"#DejaVuSans-48\"/>\n       <use x=\"127.246094\" xlink:href=\"#DejaVuSans-48\"/>\n       <use x=\"190.869141\" xlink:href=\"#DejaVuSans-48\"/>\n       <use x=\"254.492188\" xlink:href=\"#DejaVuSans-48\"/>\n      </g>\n     </g>\n    </g>\n    <g id=\"ytick_2\">\n     <g id=\"line2d_7\">\n      <g>\n       <use style=\"stroke:#000000;stroke-width:0.8;\" x=\"52.375\" xlink:href=\"#m78fa0c421a\" y=\"159.759334\"/>\n      </g>\n     </g>\n     <g id=\"text_7\">\n      <!-- 40000 -->\n      <g transform=\"translate(13.5625 163.558553)scale(0.1 -0.1)\">\n       <defs>\n        <path d=\"M 37.796875 64.3125 \nL 12.890625 25.390625 \nL 37.796875 25.390625 \nz\nM 35.203125 72.90625 \nL 47.609375 72.90625 \nL 47.609375 25.390625 \nL 58.015625 25.390625 \nL 58.015625 17.1875 \nL 47.609375 17.1875 \nL 47.609375 0 \nL 37.796875 0 \nL 37.796875 17.1875 \nL 4.890625 17.1875 \nL 4.890625 26.703125 \nz\n\" id=\"DejaVuSans-52\"/>\n       </defs>\n       <use xlink:href=\"#DejaVuSans-52\"/>\n       <use x=\"63.623047\" xlink:href=\"#DejaVuSans-48\"/>\n       <use x=\"127.246094\" xlink:href=\"#DejaVuSans-48\"/>\n       <use x=\"190.869141\" xlink:href=\"#DejaVuSans-48\"/>\n       <use x=\"254.492188\" xlink:href=\"#DejaVuSans-48\"/>\n      </g>\n     </g>\n    </g>\n    <g id=\"ytick_3\">\n     <g id=\"line2d_8\">\n      <g>\n       <use style=\"stroke:#000000;stroke-width:0.8;\" x=\"52.375\" xlink:href=\"#m78fa0c421a\" y=\"125.129311\"/>\n      </g>\n     </g>\n     <g id=\"text_8\">\n      <!-- 60000 -->\n      <g transform=\"translate(13.5625 128.928529)scale(0.1 -0.1)\">\n       <defs>\n        <path d=\"M 33.015625 40.375 \nQ 26.375 40.375 22.484375 35.828125 \nQ 18.609375 31.296875 18.609375 23.390625 \nQ 18.609375 15.53125 22.484375 10.953125 \nQ 26.375 6.390625 33.015625 6.390625 \nQ 39.65625 6.390625 43.53125 10.953125 \nQ 47.40625 15.53125 47.40625 23.390625 \nQ 47.40625 31.296875 43.53125 35.828125 \nQ 39.65625 40.375 33.015625 40.375 \nz\nM 52.59375 71.296875 \nL 52.59375 62.3125 \nQ 48.875 64.0625 45.09375 64.984375 \nQ 41.3125 65.921875 37.59375 65.921875 \nQ 27.828125 65.921875 22.671875 59.328125 \nQ 17.53125 52.734375 16.796875 39.40625 \nQ 19.671875 43.65625 24.015625 45.921875 \nQ 28.375 48.1875 33.59375 48.1875 \nQ 44.578125 48.1875 50.953125 41.515625 \nQ 57.328125 34.859375 57.328125 23.390625 \nQ 57.328125 12.15625 50.6875 5.359375 \nQ 44.046875 -1.421875 33.015625 -1.421875 \nQ 20.359375 -1.421875 13.671875 8.265625 \nQ 6.984375 17.96875 6.984375 36.375 \nQ 6.984375 53.65625 15.1875 63.9375 \nQ 23.390625 74.21875 37.203125 74.21875 \nQ 40.921875 74.21875 44.703125 73.484375 \nQ 48.484375 72.75 52.59375 71.296875 \nz\n\" id=\"DejaVuSans-54\"/>\n       </defs>\n       <use xlink:href=\"#DejaVuSans-54\"/>\n       <use x=\"63.623047\" xlink:href=\"#DejaVuSans-48\"/>\n       <use x=\"127.246094\" xlink:href=\"#DejaVuSans-48\"/>\n       <use x=\"190.869141\" xlink:href=\"#DejaVuSans-48\"/>\n       <use x=\"254.492188\" xlink:href=\"#DejaVuSans-48\"/>\n      </g>\n     </g>\n    </g>\n    <g id=\"ytick_4\">\n     <g id=\"line2d_9\">\n      <g>\n       <use style=\"stroke:#000000;stroke-width:0.8;\" x=\"52.375\" xlink:href=\"#m78fa0c421a\" y=\"90.499287\"/>\n      </g>\n     </g>\n     <g id=\"text_9\">\n      <!-- 80000 -->\n      <g transform=\"translate(13.5625 94.298506)scale(0.1 -0.1)\">\n       <defs>\n        <path d=\"M 31.78125 34.625 \nQ 24.75 34.625 20.71875 30.859375 \nQ 16.703125 27.09375 16.703125 20.515625 \nQ 16.703125 13.921875 20.71875 10.15625 \nQ 24.75 6.390625 31.78125 6.390625 \nQ 38.8125 6.390625 42.859375 10.171875 \nQ 46.921875 13.96875 46.921875 20.515625 \nQ 46.921875 27.09375 42.890625 30.859375 \nQ 38.875 34.625 31.78125 34.625 \nz\nM 21.921875 38.8125 \nQ 15.578125 40.375 12.03125 44.71875 \nQ 8.5 49.078125 8.5 55.328125 \nQ 8.5 64.0625 14.71875 69.140625 \nQ 20.953125 74.21875 31.78125 74.21875 \nQ 42.671875 74.21875 48.875 69.140625 \nQ 55.078125 64.0625 55.078125 55.328125 \nQ 55.078125 49.078125 51.53125 44.71875 \nQ 48 40.375 41.703125 38.8125 \nQ 48.828125 37.15625 52.796875 32.3125 \nQ 56.78125 27.484375 56.78125 20.515625 \nQ 56.78125 9.90625 50.3125 4.234375 \nQ 43.84375 -1.421875 31.78125 -1.421875 \nQ 19.734375 -1.421875 13.25 4.234375 \nQ 6.78125 9.90625 6.78125 20.515625 \nQ 6.78125 27.484375 10.78125 32.3125 \nQ 14.796875 37.15625 21.921875 38.8125 \nz\nM 18.3125 54.390625 \nQ 18.3125 48.734375 21.84375 45.5625 \nQ 25.390625 42.390625 31.78125 42.390625 \nQ 38.140625 42.390625 41.71875 45.5625 \nQ 45.3125 48.734375 45.3125 54.390625 \nQ 45.3125 60.0625 41.71875 63.234375 \nQ 38.140625 66.40625 31.78125 66.40625 \nQ 25.390625 66.40625 21.84375 63.234375 \nQ 18.3125 60.0625 18.3125 54.390625 \nz\n\" id=\"DejaVuSans-56\"/>\n       </defs>\n       <use xlink:href=\"#DejaVuSans-56\"/>\n       <use x=\"63.623047\" xlink:href=\"#DejaVuSans-48\"/>\n       <use x=\"127.246094\" xlink:href=\"#DejaVuSans-48\"/>\n       <use x=\"190.869141\" xlink:href=\"#DejaVuSans-48\"/>\n       <use x=\"254.492188\" xlink:href=\"#DejaVuSans-48\"/>\n      </g>\n     </g>\n    </g>\n    <g id=\"ytick_5\">\n     <g id=\"line2d_10\">\n      <g>\n       <use style=\"stroke:#000000;stroke-width:0.8;\" x=\"52.375\" xlink:href=\"#m78fa0c421a\" y=\"55.869263\"/>\n      </g>\n     </g>\n     <g id=\"text_10\">\n      <!-- 100000 -->\n      <g transform=\"translate(7.2 59.668482)scale(0.1 -0.1)\">\n       <use xlink:href=\"#DejaVuSans-49\"/>\n       <use x=\"63.623047\" xlink:href=\"#DejaVuSans-48\"/>\n       <use x=\"127.246094\" xlink:href=\"#DejaVuSans-48\"/>\n       <use x=\"190.869141\" xlink:href=\"#DejaVuSans-48\"/>\n       <use x=\"254.492188\" xlink:href=\"#DejaVuSans-48\"/>\n       <use x=\"318.115234\" xlink:href=\"#DejaVuSans-48\"/>\n      </g>\n     </g>\n    </g>\n    <g id=\"ytick_6\">\n     <g id=\"line2d_11\">\n      <g>\n       <use style=\"stroke:#000000;stroke-width:0.8;\" x=\"52.375\" xlink:href=\"#m78fa0c421a\" y=\"21.239239\"/>\n      </g>\n     </g>\n     <g id=\"text_11\">\n      <!-- 120000 -->\n      <g transform=\"translate(7.2 25.038458)scale(0.1 -0.1)\">\n       <use xlink:href=\"#DejaVuSans-49\"/>\n       <use x=\"63.623047\" xlink:href=\"#DejaVuSans-50\"/>\n       <use x=\"127.246094\" xlink:href=\"#DejaVuSans-48\"/>\n       <use x=\"190.869141\" xlink:href=\"#DejaVuSans-48\"/>\n       <use x=\"254.492188\" xlink:href=\"#DejaVuSans-48\"/>\n       <use x=\"318.115234\" xlink:href=\"#DejaVuSans-48\"/>\n      </g>\n     </g>\n    </g>\n   </g>\n   <g id=\"line2d_12\">\n    <path clip-path=\"url(#pf4d70e3121)\" d=\"M 67.593182 17.083636 \nL 102.820455 17.518972 \nL 114.093182 17.903927 \nL 122.547727 18.372032 \nL 129.593182 18.942691 \nL 136.638636 19.749338 \nL 142.275 20.627213 \nL 146.502273 21.462261 \nL 150.729545 22.485543 \nL 154.956818 23.737234 \nL 159.184091 25.264936 \nL 163.411364 27.124467 \nL 166.229545 28.580032 \nL 169.047727 30.232945 \nL 171.865909 32.106263 \nL 174.684091 34.224608 \nL 177.502273 36.613913 \nL 180.320455 39.301029 \nL 183.138636 42.313159 \nL 185.956818 45.677092 \nL 188.775 49.418218 \nL 191.593182 53.559294 \nL 194.411364 58.118976 \nL 197.229545 63.110135 \nL 200.047727 68.538017 \nL 202.865909 74.398348 \nL 205.684091 80.675528 \nL 209.911364 90.806882 \nL 214.138636 101.654061 \nL 219.775 116.833979 \nL 228.229545 139.713347 \nL 232.456818 150.517694 \nL 235.275 157.29359 \nL 238.093182 163.653912 \nL 240.911364 169.553873 \nL 243.729545 174.966115 \nL 246.547727 179.88003 \nL 249.365909 184.299946 \nL 252.184091 188.242555 \nL 255.002273 191.733954 \nL 257.820455 194.806679 \nL 260.638636 197.496984 \nL 263.456818 199.842565 \nL 266.275 201.88077 \nL 269.093182 203.647329 \nL 271.911364 205.17552 \nL 274.729545 206.495706 \nL 277.547727 207.635156 \nL 281.775 209.057561 \nL 286.002273 210.196567 \nL 290.229545 211.108656 \nL 295.865909 212.049028 \nL 301.502273 212.749259 \nL 308.547727 213.37943 \nL 317.002273 213.886215 \nL 326.865909 214.255157 \nL 340.956818 214.542149 \nL 362.093182 214.720374 \nL 371.956818 214.756364 \nL 371.956818 214.756364 \n\" style=\"fill:none;stroke:#1f77b4;stroke-linecap:square;stroke-width:1.5;\"/>\n   </g>\n   <g id=\"patch_3\">\n    <path d=\"M 52.375 224.64 \nL 52.375 7.2 \n\" style=\"fill:none;stroke:#000000;stroke-linecap:square;stroke-linejoin:miter;stroke-width:0.8;\"/>\n   </g>\n   <g id=\"patch_4\">\n    <path d=\"M 387.175 224.64 \nL 387.175 7.2 \n\" style=\"fill:none;stroke:#000000;stroke-linecap:square;stroke-linejoin:miter;stroke-width:0.8;\"/>\n   </g>\n   <g id=\"patch_5\">\n    <path d=\"M 52.375 224.64 \nL 387.175 224.64 \n\" style=\"fill:none;stroke:#000000;stroke-linecap:square;stroke-linejoin:miter;stroke-width:0.8;\"/>\n   </g>\n   <g id=\"patch_6\">\n    <path d=\"M 52.375 7.2 \nL 387.175 7.2 \n\" style=\"fill:none;stroke:#000000;stroke-linecap:square;stroke-linejoin:miter;stroke-width:0.8;\"/>\n   </g>\n  </g>\n </g>\n <defs>\n  <clipPath id=\"pf4d70e3121\">\n   <rect height=\"217.44\" width=\"334.8\" x=\"52.375\" y=\"7.2\"/>\n  </clipPath>\n </defs>\n</svg>\n",
      "text/plain": [
       "<Figure size 432x288 with 1 Axes>"
      ]
     },
     "metadata": {
      "needs_background": "light"
     },
     "output_type": "display_data"
    }
   ],
   "source": [
    "plt.plot(single_sim[0])"
   ]
  },
  {
   "cell_type": "markdown",
   "metadata": {},
   "source": [
    "#### Fit the model"
   ]
  },
  {
   "cell_type": "code",
   "execution_count": 6,
   "metadata": {
    "collapsed": false
   },
   "outputs": [
    {
     "name": "stdout",
     "output_type": "stream",
     "text": [
      " [                  0%                  ] 1194 of 180000 complete in 8.1 sec"
     ]
    },
    {
     "name": "stderr",
     "output_type": "stream",
     "text": [
      "/home/adam/anaconda3/envs/jotpy/lib/python3.6/site-packages/pymc/StepMethods.py:1282: UserWarning: \n",
      "Covariance was not positive definite and proposal_sd cannot be computed by \n",
      "Cholesky decomposition. The next jumps will be based on the last \n",
      "valid covariance matrix. This situation may have arisen because no \n",
      "jumps were accepted during the last `interval`. One solution is to \n",
      "increase the interval, or specify an initial covariance matrix with \n",
      "a smaller variance. For this simulation, each time a similar error \n",
      "occurs, proposal_sd will be reduced by a factor .9 to reduce the \n",
      "jumps and increase the likelihood of accepted jumps.\n",
      "  warnings.warn(adjustmentwarning)\n"
     ]
    },
    {
     "name": "stdout",
     "output_type": "stream",
     "text": [
      " [-----------------100%-----------------] 180000 of 180000 complete in 351.0 sec"
     ]
    }
   ],
   "source": [
    "if True:#__name__ == '__main__':\n",
    "    vars = [mortality_data, beta_1, beta_2, beta_h, sigma, mu, gamma, lice_index, \n",
    "            I1_0, I2_0, R_0, D_0, D_h,\n",
    "            sus_frac,mortality, mortality_sim]\n",
    "    \n",
    "    mc = pm.MCMC(vars, db='pickle', dbname='ectoparasite')\n",
    "    mc.use_step_method(pm.AdaptiveMetropolis, [beta_1, beta_2, sus_frac, I1_0])\n",
    "    mc.sample(iter=180000, burn=80000, thin=10, verbose=0)\n",
    "    mc.sample(iter=180000, burn=80000, thin=10, verbose=0)\n",
    "    mc.sample(iter=180000, burn=80000, thin=10, verbose=0)\n",
    "    mc.db.close()"
   ]
  },
  {
   "cell_type": "markdown",
   "metadata": {},
   "source": [
    "#### Output summary"
   ]
  },
  {
   "cell_type": "code",
   "execution_count": 5,
   "metadata": {
    "collapsed": false
   },
   "outputs": [
    {
     "ename": "AttributeError",
     "evalue": "module 'pymc' has no attribute 'gelman_rubin'",
     "output_type": "error",
     "traceback": [
      "\u001b[0;31m---------------------------------------------------------------------------\u001b[0m",
      "\u001b[0;31mAttributeError\u001b[0m                            Traceback (most recent call last)",
      "\u001b[0;32m<ipython-input-5-f9f8c4eb0982>\u001b[0m in \u001b[0;36m<module>\u001b[0;34m\u001b[0m\n\u001b[0;32m----> 1\u001b[0;31m \u001b[0mpm\u001b[0m\u001b[0;34m.\u001b[0m\u001b[0mgelman_rubin\u001b[0m\u001b[0;34m(\u001b[0m\u001b[0mmc\u001b[0m\u001b[0;34m)\u001b[0m\u001b[0;34m\u001b[0m\u001b[0;34m\u001b[0m\u001b[0m\n\u001b[0m",
      "\u001b[0;31mAttributeError\u001b[0m: module 'pymc' has no attribute 'gelman_rubin'"
     ]
    }
   ],
   "source": [
    "pm.gelman_rubin(mc)"
   ]
  },
  {
   "cell_type": "code",
   "execution_count": 15,
   "metadata": {
    "collapsed": false,
    "tags": []
   },
   "outputs": [],
   "source": [
    "mc.write_csv('tmp.csv')"
   ]
  },
  {
   "cell_type": "code",
   "execution_count": 7,
   "metadata": {
    "collapsed": false
   },
   "outputs": [
    {
     "name": "stdout",
     "output_type": "stream",
     "text": [
      "Warning: Stochastic mortality_sim's value is neither numerical nor array with floating-point dtype. Recommend fitting method fmin (default).\n"
     ]
    },
    {
     "name": "stderr",
     "output_type": "stream",
     "text": [
      "/home/adam/anaconda3/envs/jotpy/lib/python3.6/site-packages/ipykernel_launcher.py:50: RuntimeWarning: overflow encountered in double_scalars\n",
      "/home/adam/anaconda3/envs/jotpy/lib/python3.6/site-packages/ipykernel_launcher.py:64: RuntimeWarning: overflow encountered in double_scalars\n",
      "/home/adam/anaconda3/envs/jotpy/lib/python3.6/site-packages/ipykernel_launcher.py:68: RuntimeWarning: overflow encountered in double_scalars\n",
      "/home/adam/anaconda3/envs/jotpy/lib/python3.6/site-packages/ipykernel_launcher.py:69: RuntimeWarning: overflow encountered in double_scalars\n",
      "/home/adam/anaconda3/envs/jotpy/lib/python3.6/site-packages/ipykernel_launcher.py:72: RuntimeWarning: overflow encountered in double_scalars\n",
      "/home/adam/anaconda3/envs/jotpy/lib/python3.6/site-packages/ipykernel_launcher.py:72: RuntimeWarning: invalid value encountered in double_scalars\n",
      "/home/adam/anaconda3/envs/jotpy/lib/python3.6/site-packages/ipykernel_launcher.py:48: RuntimeWarning: invalid value encountered in double_scalars\n",
      "/home/adam/anaconda3/envs/jotpy/lib/python3.6/site-packages/ipykernel_launcher.py:53: RuntimeWarning: invalid value encountered in double_scalars\n",
      "/home/adam/anaconda3/envs/jotpy/lib/python3.6/site-packages/ipykernel_launcher.py:75: RuntimeWarning: invalid value encountered in double_scalars\n",
      "/home/adam/anaconda3/envs/jotpy/lib/python3.6/site-packages/ipykernel_launcher.py:64: RuntimeWarning: invalid value encountered in double_scalars\n",
      "/home/adam/anaconda3/envs/jotpy/lib/python3.6/site-packages/ipykernel_launcher.py:76: RuntimeWarning: invalid value encountered in double_scalars\n"
     ]
    },
    {
     "data": {
      "text/plain": [
       "10897.33813691938"
      ]
     },
     "execution_count": 7,
     "metadata": {},
     "output_type": "execute_result"
    }
   ],
   "source": [
    "M = pm.MAP(mc)\n",
    "M.fit()\n",
    "M.BIC"
   ]
  },
  {
   "cell_type": "markdown",
   "metadata": {},
   "source": [
    "#### Plot the posteriors"
   ]
  },
  {
   "cell_type": "code",
   "execution_count": 8,
   "metadata": {
    "collapsed": false
   },
   "outputs": [
    {
     "ename": "NameError",
     "evalue": "name 'plot' is not defined",
     "output_type": "error",
     "traceback": [
      "\u001b[0;31m---------------------------------------------------------------------------\u001b[0m",
      "\u001b[0;31mNameError\u001b[0m                                 Traceback (most recent call last)",
      "\u001b[0;32m<ipython-input-8-9340e78a80fd>\u001b[0m in \u001b[0;36m<module>\u001b[0;34m\u001b[0m\n\u001b[1;32m      1\u001b[0m \u001b[0mget_ipython\u001b[0m\u001b[0;34m(\u001b[0m\u001b[0;34m)\u001b[0m\u001b[0;34m.\u001b[0m\u001b[0mrun_line_magic\u001b[0m\u001b[0;34m(\u001b[0m\u001b[0;34m'matplotlib'\u001b[0m\u001b[0;34m,\u001b[0m \u001b[0;34m'inline'\u001b[0m\u001b[0;34m)\u001b[0m\u001b[0;34m\u001b[0m\u001b[0;34m\u001b[0m\u001b[0m\n\u001b[0;32m----> 2\u001b[0;31m \u001b[0mplot\u001b[0m\u001b[0;34m(\u001b[0m\u001b[0mmc\u001b[0m\u001b[0;34m)\u001b[0m\u001b[0;34m\u001b[0m\u001b[0;34m\u001b[0m\u001b[0m\n\u001b[0m",
      "\u001b[0;31mNameError\u001b[0m: name 'plot' is not defined"
     ]
    }
   ],
   "source": [
    "%matplotlib inline\n",
    "plot(mc)"
   ]
  },
  {
   "cell_type": "markdown",
   "metadata": {},
   "source": [
    "#### Plot the fit"
   ]
  },
  {
   "cell_type": "code",
   "execution_count": 9,
   "metadata": {
    "collapsed": false
   },
   "outputs": [
    {
     "data": {
      "text/plain": [
       "<matplotlib.legend.Legend at 0x7f2bd83420f0>"
      ]
     },
     "execution_count": 9,
     "metadata": {},
     "output_type": "execute_result"
    },
    {
     "data": {
      "image/png": "[encoded data removed]",
      "text/plain": [
       "<Figure size 720x720 with 1 Axes>"
      ]
     },
     "metadata": {
      "needs_background": "light"
     },
     "output_type": "display_data"
    }
   ],
   "source": [
    "%matplotlib inline\n",
    "plt.figure(figsize=(10,10))\n",
    "plt.title('London 1665')\n",
    "plt.xlabel('Day')\n",
    "plt.ylabel('Deaths')\n",
    "plt.plot(mortality_data, 'o', mec='black', color='black', label='Observed deaths')\n",
    "plt.plot(mortality_sim.stats()['mean'], color='red', linewidth=1, label='BPL (mean)')\n",
    "y_min = mortality_sim.stats()['quantiles'][2.5]\n",
    "y_max = mortality_sim.stats()['quantiles'][97.5]\n",
    "plt.fill_between(range(0,len(mortality_data)), y_min, y_max, color='r', alpha=0.3, label='BPL (95% CI)')\n",
    "plt.legend()\n",
    "#plt.savefig('barcelona_1490_bpl.png')"
   ]
  },
  {
   "cell_type": "code",
   "execution_count": null,
   "metadata": {
    "collapsed": true
   },
   "outputs": [],
   "source": []
  }
 ],
 "metadata": {
  "anaconda-cloud": {},
  "interpreter": {
   "hash": "7e9fd7154bd4627e9ceb3ca411bcd581fc0bb116b1b5b6e1a8355da1e2ffc32c"
  },
  "kernelspec": {
   "display_name": "Python 3.6.13 64-bit ('jotpy': conda)",
   "name": "python3"
  },
  "language_info": {
   "codemirror_mode": {
    "name": "ipython",
    "version": 3
   },
   "file_extension": ".py",
   "mimetype": "text/x-python",
   "name": "python",
   "nbconvert_exporter": "python",
   "pygments_lexer": "ipython3",
   "version": "3.6.13"
  }
 },
 "nbformat": 4,
 "nbformat_minor": 1
}
